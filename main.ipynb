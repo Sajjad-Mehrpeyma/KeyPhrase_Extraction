{
 "cells": [
  {
   "cell_type": "markdown",
   "metadata": {},
   "source": [
    "## Importing Libraries"
   ]
  },
  {
   "cell_type": "code",
   "execution_count": 1,
   "metadata": {},
   "outputs": [],
   "source": [
    "import pandas as pd\n",
    "import numpy as np\n",
    "# import seaborn as sns\n",
    "import matplotlib.pyplot as plt\n",
    "from sklearn.feature_extraction.text import TfidfVectorizer\n",
    "from sklearn.feature_extraction.text import CountVectorizer\n",
    "from hazm import *\n",
    "import nltk\n",
    "from perke.unsupervised.graph_based import *\n",
    "from yake import *\n",
    "# from Algorithms.SGRank import sgrank\n",
    "# import spacy\n",
    "from sklearn.metrics.pairwise import cosine_similarity"
   ]
  },
  {
   "cell_type": "markdown",
   "metadata": {},
   "source": [
    "## Loading Data"
   ]
  },
  {
   "cell_type": "code",
   "execution_count": 2,
   "metadata": {},
   "outputs": [],
   "source": [
    "df = pd.read_json('Text.txt', lines=True).drop('id', axis=1)"
   ]
  },
  {
   "cell_type": "code",
   "execution_count": 3,
   "metadata": {},
   "outputs": [
    {
     "data": {
      "text/html": [
       "<div>\n",
       "<style scoped>\n",
       "    .dataframe tbody tr th:only-of-type {\n",
       "        vertical-align: middle;\n",
       "    }\n",
       "\n",
       "    .dataframe tbody tr th {\n",
       "        vertical-align: top;\n",
       "    }\n",
       "\n",
       "    .dataframe thead th {\n",
       "        text-align: right;\n",
       "    }\n",
       "</style>\n",
       "<table border=\"1\" class=\"dataframe\">\n",
       "  <thead>\n",
       "    <tr style=\"text-align: right;\">\n",
       "      <th></th>\n",
       "      <th>body</th>\n",
       "      <th>keywords</th>\n",
       "    </tr>\n",
       "  </thead>\n",
       "  <tbody>\n",
       "    <tr>\n",
       "      <th>0</th>\n",
       "      <td>این نوشتار بر آن است تا با بررسی فقه الحدیثی ک...</td>\n",
       "      <td>[فقه الحدیث, معانی الاخبار, روش فقه الحدیثی, چ...</td>\n",
       "    </tr>\n",
       "    <tr>\n",
       "      <th>1</th>\n",
       "      <td>چکیده:           این پژوهش براساس چارچوب نظری ...</td>\n",
       "      <td>[سید محمد خاتمی, آدریان لفت ویچ, پیتر ایوانز, ...</td>\n",
       "    </tr>\n",
       "    <tr>\n",
       "      <th>2</th>\n",
       "      <td>فهم معانی عمیق و تدبر در آیات قرآن کریم برای ب...</td>\n",
       "      <td>[جایگاه آرائ تفسیری, محمد یزدی, ترجمه قرآن]</td>\n",
       "    </tr>\n",
       "    <tr>\n",
       "      <th>3</th>\n",
       "      <td>آزادی موهبتی است الهی که خدای متعال به انسان ع...</td>\n",
       "      <td>[محدودیت بازدارنده, آزادی بیان, بدعت, دین, ارت...</td>\n",
       "    </tr>\n",
       "    <tr>\n",
       "      <th>4</th>\n",
       "      <td>یکی از نکاتی که توجه پژوهشگران اندیشه‌های سیاس...</td>\n",
       "      <td>[آزادی, محمد تقی مصباح یزدی, مرتضی مطهری, دموک...</td>\n",
       "    </tr>\n",
       "  </tbody>\n",
       "</table>\n",
       "</div>"
      ],
      "text/plain": [
       "                                                body  \\\n",
       "0  این نوشتار بر آن است تا با بررسی فقه الحدیثی ک...   \n",
       "1  چکیده:           این پژوهش براساس چارچوب نظری ...   \n",
       "2  فهم معانی عمیق و تدبر در آیات قرآن کریم برای ب...   \n",
       "3  آزادی موهبتی است الهی که خدای متعال به انسان ع...   \n",
       "4  یکی از نکاتی که توجه پژوهشگران اندیشه‌های سیاس...   \n",
       "\n",
       "                                            keywords  \n",
       "0  [فقه الحدیث, معانی الاخبار, روش فقه الحدیثی, چ...  \n",
       "1  [سید محمد خاتمی, آدریان لفت ویچ, پیتر ایوانز, ...  \n",
       "2        [جایگاه آرائ تفسیری, محمد یزدی, ترجمه قرآن]  \n",
       "3  [محدودیت بازدارنده, آزادی بیان, بدعت, دین, ارت...  \n",
       "4  [آزادی, محمد تقی مصباح یزدی, مرتضی مطهری, دموک...  "
      ]
     },
     "execution_count": 3,
     "metadata": {},
     "output_type": "execute_result"
    }
   ],
   "source": [
    "df.head()"
   ]
  },
  {
   "cell_type": "code",
   "execution_count": 4,
   "metadata": {},
   "outputs": [],
   "source": [
    "kw_vect = CountVectorizer(ngram_range=(1, 10))\n",
    "index = 53\n",
    "a = []\n",
    "kw = df.keywords[53]\n",
    "\n",
    "sentence = df.body.iloc[index]\n",
    "sentence_ngrams = kw_vect.fit([sentence])\n",
    "sentence_features = kw_vect.get_feature_names_out()\n",
    "for k in kw:\n",
    "    if k in sentence_features:\n",
    "        a.append(k)\n",
    "    else:\n",
    "        a.append(k)"
   ]
  },
  {
   "cell_type": "markdown",
   "metadata": {},
   "source": [
    "## PreProcessing"
   ]
  },
  {
   "cell_type": "code",
   "execution_count": 5,
   "metadata": {},
   "outputs": [],
   "source": [
    "df['other_keywords'] = [[] for i in range(len(df))]\n",
    "df['true_keywords'] = [[] for i in range(len(df))]\n",
    "\n",
    "kw_vect = CountVectorizer(ngram_range=(1, 10))\n",
    "\n",
    "for index, kw in enumerate(df.keywords):\n",
    "    sentence = df.body.iloc[index]\n",
    "    sentence_ngrams = kw_vect.fit([sentence])\n",
    "    sentence_features = kw_vect.get_feature_names_out()\n",
    "    for k in kw:\n",
    "        if k in sentence_features:\n",
    "            df['true_keywords'].iloc[index].append(k)\n",
    "        else:\n",
    "            df['other_keywords'].iloc[index].append(k)\n",
    "\n",
    "df['keywords'] = df['true_keywords']\n",
    "df.drop('true_keywords', axis=1, inplace=True)"
   ]
  },
  {
   "cell_type": "code",
   "execution_count": 6,
   "metadata": {},
   "outputs": [],
   "source": [
    "key_words_OOT = []\n",
    "key_words_IOT = []\n",
    "\n",
    "for index, keyword in enumerate(df.keywords):\n",
    "    txt = df.iloc[index]['body']\n",
    "    key_words_OOT_tmp = []\n",
    "    key_words_IOT_tmp = []\n",
    "\n",
    "    for kw in keyword:\n",
    "        if kw in txt:\n",
    "            key_words_IOT_tmp.append(kw)\n",
    "\n",
    "        else:\n",
    "            key_words_OOT_tmp.append(kw)\n",
    "\n",
    "    key_words_OOT_tmp.append(key_words_OOT_tmp)\n",
    "    key_words_IOT.append(key_words_IOT_tmp)"
   ]
  },
  {
   "cell_type": "code",
   "execution_count": 7,
   "metadata": {},
   "outputs": [],
   "source": [
    "tokenizer = WordTokenizer(replace_links=True,\n",
    "                          replace_emails=True, replace_numbers=True, replace_hashtags=True, )"
   ]
  },
  {
   "cell_type": "code",
   "execution_count": 8,
   "metadata": {},
   "outputs": [],
   "source": [
    "from collections import Counter\n",
    "\n",
    "df['normalized'] = None\n",
    "df['tokenized'] = None\n",
    "df['sticked_tokenized'] = None\n",
    "\n",
    "normalizer = Normalizer()\n",
    "inf_normalizer = InformalNormalizer(seperation_flag=True)\n",
    "\n",
    "for index in range(len(df)):\n",
    "    text = df.iloc[index]['body']\n",
    "    text = normalizer.normalize(text)\n",
    "\n",
    "    df['normalized'][index] = text\n",
    "\n",
    "    text = tokenizer.tokenize(text)\n",
    "    df['tokenized'][index] = text\n",
    "    df['sticked_tokenized'][index] = \" \".join(text)"
   ]
  },
  {
   "cell_type": "code",
   "execution_count": 9,
   "metadata": {},
   "outputs": [
    {
     "name": "stderr",
     "output_type": "stream",
     "text": [
      "c:\\Users\\asus\\AppData\\Local\\Programs\\Python\\Python310\\lib\\site-packages\\sklearn\\feature_extraction\\text.py:408: UserWarning: Your stop_words may be inconsistent with your preprocessing. Tokenizing the stop words generated tokens ['آید', 'توان', 'تواند', 'توانند', 'رسد', 'رود', 'سال', 'نمی', 'های', 'گوید', 'گویند'] not in stop_words.\n",
      "  warnings.warn(\n"
     ]
    }
   ],
   "source": [
    "tfidf = TfidfVectorizer(stop_words=utils.stopwords_list(), ngram_range=(1, 5))\n",
    "tfidf_scores = tfidf.fit_transform(df.sticked_tokenized).toarray()\n",
    "features = tfidf.get_feature_names_out()"
   ]
  },
  {
   "cell_type": "code",
   "execution_count": 10,
   "metadata": {},
   "outputs": [
    {
     "data": {
      "text/plain": [
       "(450, 284302)"
      ]
     },
     "execution_count": 10,
     "metadata": {},
     "output_type": "execute_result"
    }
   ],
   "source": [
    "tfidf_scores.shape"
   ]
  },
  {
   "cell_type": "code",
   "execution_count": 11,
   "metadata": {},
   "outputs": [
    {
     "data": {
      "text/plain": [
       "(284302,)"
      ]
     },
     "execution_count": 11,
     "metadata": {},
     "output_type": "execute_result"
    }
   ],
   "source": [
    "features.shape"
   ]
  },
  {
   "cell_type": "markdown",
   "metadata": {},
   "source": [
    "### Metrics"
   ]
  },
  {
   "cell_type": "code",
   "execution_count": 14,
   "metadata": {},
   "outputs": [],
   "source": [
    "def f1_score(precision, recall):\n",
    "    return 2*precision*recall/(precision + recall + 0.0001)"
   ]
  },
  {
   "cell_type": "code",
   "execution_count": 39,
   "metadata": {},
   "outputs": [],
   "source": [
    "def text_metrics(preds, trues):\n",
    "    length = len(preds)\n",
    "    precisions = []\n",
    "    recalls = []\n",
    "    f1_scores = []\n",
    "    \n",
    "    for i in range(length):\n",
    "        pred = preds[i]\n",
    "        true = trues[i]\n",
    "\n",
    "        prec = precision(pred, true)\n",
    "        rec = recall(pred, true)\n",
    "        f1 = f1_score(prec, rec)\n",
    "\n",
    "        precisions.append(prec)\n",
    "        recalls.append(rec)\n",
    "        f1_scores.append(f1)\n",
    "\n",
    "    precisions = sum(precisions)/length\n",
    "    recalls = sum(recalls)/length\n",
    "    # f1_scores = sum(f1_scores)/length\n",
    "    # f1_scores = f1_score(precisions, recalls)\n",
    "\n",
    "    return precisions, recalls, f1_scores"
   ]
  },
  {
   "cell_type": "code",
   "execution_count": 15,
   "metadata": {},
   "outputs": [],
   "source": [
    "def text_metrics(preds, trues):\n",
    "    tp = 0\n",
    "    fp = 0\n",
    "    fn = 0\n",
    "    \n",
    "    for index, pred in enumerate(preds):\n",
    "        true = trues[index]\n",
    "\n",
    "        for phrase in pred:\n",
    "            if phrase in true:\n",
    "                tp += 1\n",
    "            else:\n",
    "                fp += 1\n",
    "                \n",
    "        for phrase in true:\n",
    "            if phrase not in pred:\n",
    "                fn += 1\n",
    "\n",
    "    prec = tp / (tp+fp+0.000001)\n",
    "    rec = tp / (tp+fn+0.000001)\n",
    "    f1 = f1_score(prec, rec)\n",
    "\n",
    "    return prec, rec, f1"
   ]
  },
  {
   "cell_type": "markdown",
   "metadata": {},
   "source": [
    "### Filters"
   ]
  },
  {
   "cell_type": "markdown",
   "metadata": {},
   "source": [
    "#### Filter 1: remove KeyPhrases Longer than 3 Words"
   ]
  },
  {
   "cell_type": "code",
   "execution_count": 16,
   "metadata": {},
   "outputs": [],
   "source": [
    "def filter1(preds):\n",
    "    final_preds = []\n",
    "    for index, pred in enumerate(preds):\n",
    "        # print(pred)\n",
    "        final_preds.append(pred.copy())\n",
    "        for kp in pred:\n",
    "            length = len(kp.split())\n",
    "            if length > 3:\n",
    "                final_preds[index].remove(kp)\n",
    "\n",
    "    return final_preds"
   ]
  },
  {
   "cell_type": "markdown",
   "metadata": {},
   "source": [
    "#### Filter 2: Mixing One Words"
   ]
  },
  {
   "cell_type": "code",
   "execution_count": 17,
   "metadata": {},
   "outputs": [],
   "source": [
    "def return_one_words(pred):\n",
    "    ones = []\n",
    "    for kp in pred:\n",
    "        if len(kp.split()) == 1:\n",
    "            ones.append(kp)\n",
    "    return ones\n",
    "\n",
    "def mix_ones(ones):\n",
    "    output = {}\n",
    "    # print(ones)\n",
    "    if len(ones) > 1:\n",
    "        for index, word1 in enumerate(ones):\n",
    "            # for word2 in ones[index:]:\n",
    "            for word2 in ones:\n",
    "                if word1 != word2:\n",
    "                    output[word1 + \" \" + word2] = [word1, word2]\n",
    "\n",
    "    else:\n",
    "        output = {None:None}\n",
    "    return output"
   ]
  },
  {
   "cell_type": "code",
   "execution_count": 18,
   "metadata": {},
   "outputs": [],
   "source": [
    "def filter2(preds, text_ngrams, word2score):\n",
    "    output_preds = []\n",
    "    for index, pred in enumerate(preds):\n",
    "        output_preds.append(pred.copy())\n",
    "        ones = return_one_words(pred)\n",
    "        mixed = mix_ones(ones)\n",
    "        \n",
    "        for key in mixed.keys():\n",
    "\n",
    "            if key in text_ngrams[index]:\n",
    "                word1 = mixed[key][0]\n",
    "                word2 = mixed[key][1]\n",
    "                try:\n",
    "                    word1_score = word2score[word1]\n",
    "                    word2_score = word2score[word2]\n",
    "                    candidate_score = word2score[key]\n",
    "                    \n",
    "                    mean_score = 0.45 * (word1_score + word2_score)\n",
    "                    if candidate_score >= mean_score:\n",
    "                        # print(key)\n",
    "                        try:\n",
    "                            output_preds[index].remove(word1)\n",
    "                            output_preds[index].remove(word2)\n",
    "                            pass\n",
    "                        except:\n",
    "                            pass\n",
    "\n",
    "                        if key not in output_preds[index]:\n",
    "                            output_preds[index].append(key)\n",
    "\n",
    "                except:\n",
    "                    pass\n",
    "\n",
    "    return output_preds"
   ]
  },
  {
   "cell_type": "markdown",
   "metadata": {},
   "source": [
    "#### Filter 3: KeyPhrase Subsets Remove"
   ]
  },
  {
   "cell_type": "code",
   "execution_count": 19,
   "metadata": {},
   "outputs": [],
   "source": [
    "def filter3(preds, word2score):\n",
    "    output_preds = []\n",
    "    for index, pred in enumerate(preds):\n",
    "        output_preds.append(pred.copy())\n",
    "        for small_kp in pred:\n",
    "            small_words = small_kp.split()\n",
    "            # print('small_kp', small_kp)\n",
    "            for big_kp in pred:\n",
    "                big_words = big_kp.split()\n",
    "                # print(small_words, big_words)\n",
    "            \n",
    "                if len(small_words) < len(big_words):\n",
    "                    vectorizer = CountVectorizer(ngram_range=(1, len(big_words)))\n",
    "                    vectorizer.fit([big_kp])\n",
    "                    big_ngrams = vectorizer.get_feature_names_out()\n",
    "                    if small_kp in big_ngrams:\n",
    "                        \n",
    "                        try:\n",
    "                            small_score = word2score[small_kp]\n",
    "                            big_score = word2score[big_kp]\n",
    "                        \n",
    "                            if word2score[small_kp]*0.6 <= word2score[big_kp]:\n",
    "                                try:\n",
    "                                    output_preds[index].remove(small_kp)\n",
    "                                except:\n",
    "                                    continue\n",
    "\n",
    "                            elif word2score[small_kp] > 4.2*word2score[big_kp]:\n",
    "                                try:\n",
    "                                    output_preds[index].remove(big_kp)\n",
    "                                except:\n",
    "                                    continue\n",
    "                        \n",
    "                        \n",
    "                        except:   \n",
    "                            pass\n",
    "\n",
    "    return output_preds"
   ]
  },
  {
   "cell_type": "markdown",
   "metadata": {},
   "source": [
    "## TF-IDF BaseLine"
   ]
  },
  {
   "cell_type": "code",
   "execution_count": 909,
   "metadata": {},
   "outputs": [],
   "source": [
    "def choose_keywords(sentences_scoreVec, features, threshold):\n",
    "    df_keywords = []\n",
    "    for vector in sentences_scoreVec:\n",
    "        sentence_keywords = []\n",
    "        idx_score = list(enumerate(vector))\n",
    "        for tople in idx_score:\n",
    "            idx = tople[0]\n",
    "            score = tople[1]\n",
    "            if score > threshold:\n",
    "                sentence_keywords.append((idx, features[idx]))\n",
    "\n",
    "        df_keywords.append(sentence_keywords)\n",
    "\n",
    "    return df_keywords"
   ]
  },
  {
   "cell_type": "code",
   "execution_count": 907,
   "metadata": {},
   "outputs": [],
   "source": [
    "# word2score = {}\n",
    "# scores = tfidf_scores.max(axis=0)\n",
    "\n",
    "# for feature, index in tfidf.vocabulary_.items():\n",
    "#     score = scores[index]\n",
    "#     word2score[feature] = score\n",
    "\n",
    "# descrete_ngrams = []\n",
    "# for text in df.sticked_tokenized:\n",
    "#     tfidf.fit([text])\n",
    "#     ngrams = tfidf.get_feature_names_out()\n",
    "#     descrete_ngrams.append(ngrams)"
   ]
  },
  {
   "cell_type": "code",
   "execution_count": 913,
   "metadata": {},
   "outputs": [],
   "source": [
    "# threshold = 0.09\n",
    "# precisions = []\n",
    "# recalls = []\n",
    "# f1_scores = []\n",
    "# keywords = df.keywords\n",
    "\n",
    "# for i in range(1):\n",
    "#     pred_keywords = choose_keywords(tfidf_scores, features, threshold)\n",
    "#     pred_keywords = filter1(pred_keywords)\n",
    "#     pred_keywords = filter2(pred_keywords, descrete_ngrams, word2score)\n",
    "#     pred_keywords = filter3(pred_keywords, word2score)\n",
    "\n",
    "\n",
    "\n",
    "#     epoch_precision = []\n",
    "#     epoch_recall = []\n",
    "#     epoch_f1_score = []\n",
    "\n",
    "#     for idx, sentence_KW in enumerate(pred_keywords):\n",
    "#         kw_words = [s[1] for s in sentence_KW]\n",
    "\n",
    "#         true_positive = 0\n",
    "#         false_positive = 0\n",
    "#         false_negative = 0\n",
    "\n",
    "#         true_kw = keywords[idx]\n",
    "#         total_count = len(true_kw)\n",
    "\n",
    "#         for kw in kw_words:\n",
    "#             if kw in true_kw:\n",
    "#                 true_positive += 1\n",
    "#             else:\n",
    "#                 false_positive += 1\n",
    "\n",
    "#         for t_kw in true_kw:\n",
    "#             if t_kw not in kw_words:\n",
    "#                 false_negative += 1\n",
    "\n",
    "#         precision = true_positive / (true_positive + false_positive + 0.0001)\n",
    "#         recall = true_positive / (true_positive + false_negative + 0.0001)\n",
    "#         f1_score = 2*precision*recall/(precision + recall + 0.0001)\n",
    "\n",
    "#         epoch_precision.append(precision)\n",
    "#         epoch_recall.append(recall)\n",
    "#         epoch_f1_score.append(f1_score)\n",
    "\n",
    "#     precisions.append(np.mean(epoch_precision))\n",
    "#     recalls.append(np.mean(epoch_recall))\n",
    "#     f1_scores.append(np.mean(epoch_f1_score))\n",
    "#     # threshold += 0.01\n",
    "\n",
    "# # best threshold = 0.09"
   ]
  },
  {
   "cell_type": "code",
   "execution_count": null,
   "metadata": {},
   "outputs": [],
   "source": [
    "# thresholds = np.linspace(5, 20, 15)/100\n",
    "# recalls = np.array(recalls)\n",
    "# precisions = np.array(precisions)\n",
    "# f1_scores = np.array(f1_scores)\n",
    "\n",
    "# plt.plot(thresholds, recalls*100, 'r', label='Recall')\n",
    "# plt.plot(thresholds, precisions*100, 'b', label='Precision')\n",
    "# plt.plot(thresholds, f1_scores*100, 'd--', label='F1_Score')\n",
    "\n",
    "# plt.grid(visible=True)\n",
    "# plt.ylabel('Percent')\n",
    "# plt.xlabel('Threshold')\n",
    "\n",
    "# leg = plt.legend()"
   ]
  },
  {
   "cell_type": "markdown",
   "metadata": {},
   "source": [
    "## Singlerank"
   ]
  },
  {
   "cell_type": "code",
   "execution_count": null,
   "metadata": {},
   "outputs": [],
   "source": [
    "def Singlerank(texts, n):\n",
    "    kp = []\n",
    "    \n",
    "    for text in texts:\n",
    "        extractor = SingleRank()\n",
    "        extractor.load_text(text, word_normalization_method=None)\n",
    "        extractor.select_candidates()\n",
    "        extractor.weight_candidates(normalize_weights=True, remove_redundants=True, window_size=10)\n",
    "\n",
    "        keyphrases = extractor.get_n_best(n=n)\n",
    "\n",
    "        keyphrases = [i[0] for i in keyphrases]\n",
    "        kp.append(keyphrases)\n",
    "\n",
    "    return kp"
   ]
  },
  {
   "cell_type": "code",
   "execution_count": null,
   "metadata": {},
   "outputs": [],
   "source": [
    "# precisions = []\n",
    "# recalls = []\n",
    "# f1_scores = []\n",
    "# trues = df.keywords\n",
    "\n",
    "# for n in range(5, 20):\n",
    "#     key_phrases = Singlerank(df.normalized[:20], n)\n",
    "\n",
    "#     prec, rec, f1 = text_metrics(key_phrases, trues)\n",
    "    \n",
    "#     precisions.append(prec)\n",
    "#     recalls.append(rec)\n",
    "#     f1_scores.append(f1)"
   ]
  },
  {
   "cell_type": "code",
   "execution_count": null,
   "metadata": {},
   "outputs": [
    {
     "data": {
      "image/png": "[encoded data removed]",
      "text/plain": [
       "<Figure size 640x480 with 1 Axes>"
      ]
     },
     "metadata": {},
     "output_type": "display_data"
    }
   ],
   "source": [
    "ns = np.linspace(5, 19, 15)\n",
    "recalls = np.array(recalls)\n",
    "precisions = np.array(precisions)\n",
    "f1_scores = np.array(f1_scores)\n",
    "\n",
    "plt.plot(ns, recalls*100, 'r', label='Recall')\n",
    "plt.plot(ns, precisions*100, 'b', label='Precision')\n",
    "plt.plot(ns, f1_scores*100, 'd--', label='F1_Score')\n",
    "\n",
    "plt.grid(visible=True)\n",
    "plt.ylabel('Percent')\n",
    "plt.xlabel('ns')\n",
    "\n",
    "leg = plt.legend()"
   ]
  },
  {
   "cell_type": "code",
   "execution_count": null,
   "metadata": {},
   "outputs": [],
   "source": []
  },
  {
   "cell_type": "markdown",
   "metadata": {},
   "source": [
    "## Textrank"
   ]
  },
  {
   "cell_type": "code",
   "execution_count": null,
   "metadata": {},
   "outputs": [],
   "source": [
    "def Textrank(texts, n):\n",
    "    kp = []\n",
    "    \n",
    "    for text in texts:\n",
    "        extractor = TextRank()\n",
    "        extractor.load_text(text, word_normalization_method=None)\n",
    "        extractor.select_candidates()\n",
    "        extractor.weight_candidates(normalize_weights=True, window_size=10)\n",
    "\n",
    "        keyphrases = extractor.get_n_best(n=n)\n",
    "        keyphrases = [i[0] for i in keyphrases]\n",
    "        kp.append(keyphrases)\n",
    "\n",
    "    return kp"
   ]
  },
  {
   "cell_type": "code",
   "execution_count": null,
   "metadata": {},
   "outputs": [],
   "source": [
    "precisions = []\n",
    "recalls = []\n",
    "f1_scores = []\n",
    "trues = df.keywords\n",
    "\n",
    "for n in range(5, 20):\n",
    "    key_phrases = Textrank(df.normalized[:20], n)\n",
    "\n",
    "    prec, rec, f1 = text_metrics(key_phrases, trues)\n",
    "    \n",
    "    precisions.append(prec)\n",
    "    recalls.append(rec)\n",
    "    f1_scores.append(f1)"
   ]
  },
  {
   "cell_type": "code",
   "execution_count": null,
   "metadata": {},
   "outputs": [
    {
     "data": {
      "image/png": "[encoded data removed]",
      "text/plain": [
       "<Figure size 640x480 with 1 Axes>"
      ]
     },
     "metadata": {},
     "output_type": "display_data"
    }
   ],
   "source": [
    "ns = np.linspace(5, 19, 15)\n",
    "recalls = np.array(recalls)\n",
    "precisions = np.array(precisions)\n",
    "f1_scores = np.array(f1_scores)\n",
    "\n",
    "plt.plot(ns, recalls*100, 'r', label='Recall')\n",
    "plt.plot(ns, precisions*100, 'b', label='Precision')\n",
    "plt.plot(ns, f1_scores*100, 'd--', label='F1_Score')\n",
    "\n",
    "plt.grid(visible=True)\n",
    "plt.ylabel('Percent')\n",
    "plt.xlabel('n')\n",
    "\n",
    "leg = plt.legend()"
   ]
  },
  {
   "cell_type": "markdown",
   "metadata": {},
   "source": [
    "## Position Rank"
   ]
  },
  {
   "cell_type": "code",
   "execution_count": null,
   "metadata": {},
   "outputs": [],
   "source": [
    "def Positionrank(texts, n):\n",
    "    valid_pos_tags = {'NOUN', 'NOUN,EZ', 'ADJ', 'ADJ,EZ'}\n",
    "    # valid_pos_tags = {'NOUN', 'ADJ'}\n",
    "    grammar = r\"\"\"\n",
    "        NP:\n",
    "            {<NOUN>}<VERB>\n",
    "        NP:\n",
    "            {<DET(,EZ)?|NOUN(,EZ)?|NUM(,EZ)?|ADJ(,EZ)|PRON><DET(,EZ)|NOUN(,EZ)|NUM(,EZ)|ADJ(,EZ)|PRON>*}\n",
    "            <NOUN>}{<.*(,EZ)?>\n",
    "    \"\"\"\n",
    "\n",
    "    # grammar = r\"\"\"\n",
    "    #         NP:\n",
    "    #                 {<NOUN,EZ>?<NOUN.*>}    # Noun(s) + Noun(optional)\n",
    "             \n",
    "    #         NP:\n",
    "    #                 {<NOUN.*><ADJ.*>}    # Noun(s) + Adjective(optional)\n",
    "    #         \"\"\"\n",
    "    kp = []\n",
    "    for text in texts:\n",
    "        extractor = PositionRank(valid_pos_tags=valid_pos_tags)\n",
    "        extractor.load_text(input=text, word_normalization_method=None)\n",
    "        extractor.select_candidates(grammar=grammar, maximum_word_number=4)\n",
    "        # extractor.select_candidates(maximum_word_number=4)\n",
    "        extractor.weight_candidates(normalize_weights=True)\n",
    "\n",
    "        keyphrases = extractor.get_n_best(n=n)\n",
    "        # print(keyphrases)\n",
    "        keyphrases = [i[0] for i in keyphrases]\n",
    "        kp.append(keyphrases)\n",
    "\n",
    "    return kp"
   ]
  },
  {
   "cell_type": "code",
   "execution_count": null,
   "metadata": {},
   "outputs": [
    {
     "ename": "KeyboardInterrupt",
     "evalue": "",
     "output_type": "error",
     "traceback": [
      "\u001b[1;31m---------------------------------------------------------------------------\u001b[0m",
      "\u001b[1;31mKeyboardInterrupt\u001b[0m                         Traceback (most recent call last)",
      "Cell \u001b[1;32mIn[205], line 7\u001b[0m\n\u001b[0;32m      4\u001b[0m trues \u001b[39m=\u001b[39m df\u001b[39m.\u001b[39mkeywords\n\u001b[0;32m      6\u001b[0m \u001b[39mfor\u001b[39;00m n \u001b[39min\u001b[39;00m \u001b[39mrange\u001b[39m(\u001b[39m4\u001b[39m, \u001b[39m8\u001b[39m):\n\u001b[1;32m----> 7\u001b[0m     key_phrases \u001b[39m=\u001b[39m Positionrank(df\u001b[39m.\u001b[39;49mnormalized[:\u001b[39m20\u001b[39;49m], n)\n\u001b[0;32m      9\u001b[0m     prec, rec, f1 \u001b[39m=\u001b[39m text_metrics(key_phrases, trues)\n\u001b[0;32m     11\u001b[0m     precisions\u001b[39m.\u001b[39mappend(prec)\n",
      "Cell \u001b[1;32mIn[204], line 15\u001b[0m, in \u001b[0;36mPositionrank\u001b[1;34m(texts, n)\u001b[0m\n\u001b[0;32m     13\u001b[0m \u001b[39mfor\u001b[39;00m text \u001b[39min\u001b[39;00m texts:\n\u001b[0;32m     14\u001b[0m     extractor \u001b[39m=\u001b[39m PositionRank(valid_pos_tags\u001b[39m=\u001b[39mvalid_pos_tags)\n\u001b[1;32m---> 15\u001b[0m     extractor\u001b[39m.\u001b[39;49mload_text(\u001b[39minput\u001b[39;49m\u001b[39m=\u001b[39;49mtext, word_normalization_method\u001b[39m=\u001b[39;49m\u001b[39mNone\u001b[39;49;00m)\n\u001b[0;32m     16\u001b[0m     extractor\u001b[39m.\u001b[39mselect_candidates(grammar\u001b[39m=\u001b[39mgrammar, maximum_word_number\u001b[39m=\u001b[39m\u001b[39m4\u001b[39m)\n\u001b[0;32m     17\u001b[0m     \u001b[39m# extractor.select_candidates(maximum_word_number=4)\u001b[39;00m\n",
      "File \u001b[1;32mc:\\Users\\asus\\AppData\\Local\\Programs\\Python\\Python310\\lib\\site-packages\\perke\\base\\extractor.py:84\u001b[0m, in \u001b[0;36mExtractor.load_text\u001b[1;34m(self, input, word_normalization_method, universal_pos_tags)\u001b[0m\n\u001b[0;32m     66\u001b[0m \u001b[39m\"\"\"\u001b[39;00m\n\u001b[0;32m     67\u001b[0m \u001b[39mLoads the text of a document or string.\u001b[39;00m\n\u001b[0;32m     68\u001b[0m \n\u001b[1;32m   (...)\u001b[0m\n\u001b[0;32m     81\u001b[0m \u001b[39m    defaults to `True`.\u001b[39;00m\n\u001b[0;32m     82\u001b[0m \u001b[39m\"\"\"\u001b[39;00m\n\u001b[0;32m     83\u001b[0m \u001b[39m# Initialize reader\u001b[39;00m\n\u001b[1;32m---> 84\u001b[0m reader \u001b[39m=\u001b[39m RawTextReader(\n\u001b[0;32m     85\u001b[0m     \u001b[39minput\u001b[39;49m, word_normalization_method, universal_pos_tags\n\u001b[0;32m     86\u001b[0m )\n\u001b[0;32m     88\u001b[0m \u001b[39m# Load sentences\u001b[39;00m\n\u001b[0;32m     89\u001b[0m \u001b[39mself\u001b[39m\u001b[39m.\u001b[39msentences \u001b[39m=\u001b[39m reader\u001b[39m.\u001b[39mread()\n",
      "File \u001b[1;32mc:\\Users\\asus\\AppData\\Local\\Programs\\Python\\Python310\\lib\\site-packages\\perke\\base\\readers.py:96\u001b[0m, in \u001b[0;36mRawTextReader.__init__\u001b[1;34m(self, input, word_normalization_method, universal_pos_tags)\u001b[0m\n\u001b[0;32m     74\u001b[0m \u001b[39mdef\u001b[39;00m \u001b[39m__init__\u001b[39m(\n\u001b[0;32m     75\u001b[0m     \u001b[39mself\u001b[39m,\n\u001b[0;32m     76\u001b[0m     \u001b[39minput\u001b[39m: \u001b[39mstr\u001b[39m,\n\u001b[0;32m     77\u001b[0m     word_normalization_method: WordNormalizationMethod,\n\u001b[0;32m     78\u001b[0m     universal_pos_tags,\n\u001b[0;32m     79\u001b[0m ) \u001b[39m-\u001b[39m\u001b[39m>\u001b[39m \u001b[39mNone\u001b[39;00m:\n\u001b[0;32m     80\u001b[0m     \u001b[39m\"\"\"\u001b[39;00m\n\u001b[0;32m     81\u001b[0m \u001b[39m    Initializes the reader.\u001b[39;00m\n\u001b[0;32m     82\u001b[0m \n\u001b[1;32m   (...)\u001b[0m\n\u001b[0;32m     94\u001b[0m \u001b[39m        Whether to use universal part of speech tags or not\u001b[39;00m\n\u001b[0;32m     95\u001b[0m \u001b[39m    \"\"\"\u001b[39;00m\n\u001b[1;32m---> 96\u001b[0m     \u001b[39msuper\u001b[39;49m()\u001b[39m.\u001b[39;49m\u001b[39m__init__\u001b[39;49m(word_normalization_method, universal_pos_tags)\n\u001b[0;32m     98\u001b[0m     \u001b[39m# If input is a filepath\u001b[39;00m\n\u001b[0;32m     99\u001b[0m     \u001b[39mif\u001b[39;00m \u001b[39misinstance\u001b[39m(\u001b[39minput\u001b[39m, Path):\n",
      "File \u001b[1;32mc:\\Users\\asus\\AppData\\Local\\Programs\\Python\\Python310\\lib\\site-packages\\perke\\base\\readers.py:55\u001b[0m, in \u001b[0;36mReader.__init__\u001b[1;34m(self, word_normalization_method, universal_pos_tags)\u001b[0m\n\u001b[0;32m     53\u001b[0m \u001b[39mself\u001b[39m\u001b[39m.\u001b[39mnormalizer: hazm\u001b[39m.\u001b[39mNormalizer \u001b[39m=\u001b[39m hazm\u001b[39m.\u001b[39mNormalizer()\n\u001b[0;32m     54\u001b[0m \u001b[39mself\u001b[39m\u001b[39m.\u001b[39mstemmer: hazm\u001b[39m.\u001b[39mStemmer \u001b[39m=\u001b[39m hazm\u001b[39m.\u001b[39mStemmer()\n\u001b[1;32m---> 55\u001b[0m \u001b[39mself\u001b[39m\u001b[39m.\u001b[39mlemmatizer: hazm\u001b[39m.\u001b[39mLemmatizer \u001b[39m=\u001b[39m hazm\u001b[39m.\u001b[39;49mLemmatizer()\n\u001b[0;32m     56\u001b[0m \u001b[39mself\u001b[39m\u001b[39m.\u001b[39mpos_tagger: hazm\u001b[39m.\u001b[39mPOSTagger \u001b[39m=\u001b[39m hazm\u001b[39m.\u001b[39mPOSTagger(\n\u001b[0;32m     57\u001b[0m     model\u001b[39m=\u001b[39m\u001b[39mstr\u001b[39m(\n\u001b[0;32m     58\u001b[0m         Path(\u001b[39m__file__\u001b[39m)\u001b[39m.\u001b[39mparent\u001b[39m.\u001b[39mparent \u001b[39m/\u001b[39m \u001b[39m'\u001b[39m\u001b[39mresources\u001b[39m\u001b[39m'\u001b[39m \u001b[39m/\u001b[39m \u001b[39m'\u001b[39m\u001b[39mpos_tagger.model\u001b[39m\u001b[39m'\u001b[39m\n\u001b[0;32m     59\u001b[0m     ),\n\u001b[0;32m     60\u001b[0m     universal_tag\u001b[39m=\u001b[39muniversal_pos_tags,\n\u001b[0;32m     61\u001b[0m )\n",
      "File \u001b[1;32m~\\AppData\\Roaming\\Python\\Python310\\site-packages\\hazm\\lemmatizer.py:60\u001b[0m, in \u001b[0;36mLemmatizer.__init__\u001b[1;34m(self, words_file, verbs_file, joined_verb_parts)\u001b[0m\n\u001b[0;32m     58\u001b[0m \u001b[39mself\u001b[39m\u001b[39m.\u001b[39mverbs[\u001b[39m\"\u001b[39m\u001b[39mاست\u001b[39m\u001b[39m\"\u001b[39m] \u001b[39m=\u001b[39m \u001b[39m\"\u001b[39m\u001b[39m#است\u001b[39m\u001b[39m\"\u001b[39m\n\u001b[0;32m     59\u001b[0m \u001b[39mfor\u001b[39;00m verb \u001b[39min\u001b[39;00m tokenizer\u001b[39m.\u001b[39mverbs:\n\u001b[1;32m---> 60\u001b[0m     \u001b[39mfor\u001b[39;00m tense \u001b[39min\u001b[39;00m \u001b[39mself\u001b[39;49m\u001b[39m.\u001b[39;49mconjugation\u001b[39m.\u001b[39;49mget_all(verb):\n\u001b[0;32m     61\u001b[0m         \u001b[39mself\u001b[39m\u001b[39m.\u001b[39mverbs[tense] \u001b[39m=\u001b[39m verb\n\u001b[0;32m     62\u001b[0m \u001b[39mif\u001b[39;00m joined_verb_parts:\n",
      "\u001b[1;31mKeyboardInterrupt\u001b[0m: "
     ]
    },
    {
     "ename": "",
     "evalue": "",
     "output_type": "error",
     "traceback": [
      "\u001b[1;31mThe Kernel crashed while executing code in the the current cell or a previous cell. Please review the code in the cell(s) to identify a possible cause of the failure. Click <a href='https://aka.ms/vscodeJupyterKernelCrash'>here</a> for more info. View Jupyter <a href='command:jupyter.viewOutput'>log</a> for further details."
     ]
    }
   ],
   "source": [
    "precisions = []\n",
    "recalls = []\n",
    "f1_scores = []\n",
    "trues = df.keywords\n",
    "\n",
    "for n in range(4, 8):\n",
    "    key_phrases = Positionrank(df.normalized[:20], n)\n",
    "\n",
    "    prec, rec, f1 = text_metrics(key_phrases, trues)\n",
    "    \n",
    "    precisions.append(prec)\n",
    "    recalls.append(rec)\n",
    "    f1_scores.append(f1)"
   ]
  },
  {
   "cell_type": "code",
   "execution_count": null,
   "metadata": {},
   "outputs": [
    {
     "data": {
      "image/png": "[encoded data removed]",
      "text/plain": [
       "<Figure size 640x480 with 1 Axes>"
      ]
     },
     "metadata": {},
     "output_type": "display_data"
    }
   ],
   "source": [
    "ns = np.linspace(4, 7, 4)\n",
    "recalls = np.array(recalls)\n",
    "precisions = np.array(precisions)\n",
    "f1_scores = np.array(f1_scores)\n",
    "\n",
    "plt.plot(ns, recalls*100, 'r', label='Recall')\n",
    "plt.plot(ns, precisions*100, 'b', label='Precision')\n",
    "plt.plot(ns, f1_scores*100, 'd--', label='F1_Score')\n",
    "\n",
    "plt.grid(visible=True)\n",
    "plt.ylabel('Percent')\n",
    "plt.xlabel('n')\n",
    "\n",
    "leg = plt.legend()"
   ]
  },
  {
   "cell_type": "markdown",
   "metadata": {},
   "source": [
    "## Topic Rank"
   ]
  },
  {
   "cell_type": "code",
   "execution_count": null,
   "metadata": {},
   "outputs": [],
   "source": [
    "def Topicrank(texts, n):\n",
    "    kp = []\n",
    "    \n",
    "    for text in texts:\n",
    "        extractor = TopicRank()\n",
    "        extractor.load_text(text, word_normalization_method=None)\n",
    "        extractor.select_candidates()\n",
    "        extractor.weight_candidates()\n",
    "\n",
    "        keyphrases = extractor.get_n_best(n=n)\n",
    "\n",
    "        keyphrases = [i[0] for i in keyphrases]\n",
    "        kp.append(keyphrases)\n",
    "\n",
    "    return kp\n",
    "\n",
    "\n",
    "\n",
    "    # extractor.weight_candidates(\n",
    "    #     threshold=0.74, metric='jaccard', linkage_method='average'\n",
    "    # )\n"
   ]
  },
  {
   "cell_type": "code",
   "execution_count": null,
   "metadata": {},
   "outputs": [],
   "source": [
    "precisions = []\n",
    "recalls = []\n",
    "f1_scores = []\n",
    "trues = df.keywords\n",
    "\n",
    "n = 3\n",
    "\n",
    "for i in range(4):\n",
    "    key_phrases = Topicrank(df.normalized[:20], n)\n",
    "\n",
    "    prec, rec, f1 = text_metrics(key_phrases, trues)\n",
    "    \n",
    "    precisions.append(prec)\n",
    "    recalls.append(rec)\n",
    "    f1_scores.append(f1)\n",
    "\n",
    "    n += 1"
   ]
  },
  {
   "cell_type": "code",
   "execution_count": null,
   "metadata": {},
   "outputs": [
    {
     "data": {
      "image/png": "[encoded data removed]",
      "text/plain": [
       "<Figure size 640x480 with 1 Axes>"
      ]
     },
     "metadata": {},
     "output_type": "display_data"
    }
   ],
   "source": [
    "ns = np.linspace(3, 6, 4)\n",
    "recalls = np.array(recalls)\n",
    "precisions = np.array(precisions)\n",
    "f1_scores = np.array(f1_scores)\n",
    "\n",
    "plt.plot(ns, recalls*100, 'r', label='Recall')\n",
    "plt.plot(ns, precisions*100, 'b', label='Precision')\n",
    "plt.plot(ns, f1_scores*100, 'd--', label='F1_Score')\n",
    "\n",
    "plt.grid(visible=True)\n",
    "plt.ylabel('Percent')\n",
    "plt.xlabel('n')\n",
    "\n",
    "leg = plt.legend()"
   ]
  },
  {
   "cell_type": "markdown",
   "metadata": {},
   "source": [
    "## Multi Partite Rank"
   ]
  },
  {
   "cell_type": "code",
   "execution_count": null,
   "metadata": {},
   "outputs": [],
   "source": [
    "def multiPartiteRank(texts, n):\n",
    "    valid_pos_tags = {'NOUN', 'ADJ'}\n",
    "    \n",
    "    kp = []\n",
    "    \n",
    "    for text in texts:\n",
    "        extractor = MultipartiteRank(valid_pos_tags=valid_pos_tags)\n",
    "        extractor.load_text(text, word_normalization_method=None)\n",
    "        extractor.select_candidates()\n",
    "\n",
    "        # extractor.weight_candidates()\n",
    "        extractor.weight_candidates(\n",
    "        threshold=0.74,\n",
    "        metric='jaccard',\n",
    "        linkage_method='average',\n",
    "        alpha=1.1,\n",
    "        )\n",
    "\n",
    "        keyphrases = extractor.get_n_best(n=n)\n",
    "\n",
    "        keyphrases = [i[0] for i in keyphrases]\n",
    "        kp.append(keyphrases)\n",
    "\n",
    "    return kp\n"
   ]
  },
  {
   "cell_type": "code",
   "execution_count": null,
   "metadata": {},
   "outputs": [],
   "source": [
    "precisions = []\n",
    "recalls = []\n",
    "f1_scores = []\n",
    "trues = df.keywords\n",
    "\n",
    "for n in range(4, 10):\n",
    "    key_phrases = multiPartiteRank(df.normalized[:20], n)\n",
    "\n",
    "    prec, rec, f1 = text_metrics(key_phrases, trues)\n",
    "    \n",
    "    precisions.append(prec)\n",
    "    recalls.append(rec)\n",
    "    f1_scores.append(f1)\n"
   ]
  },
  {
   "cell_type": "code",
   "execution_count": null,
   "metadata": {},
   "outputs": [
    {
     "data": {
      "image/png": "[encoded data removed]",
      "text/plain": [
       "<Figure size 640x480 with 1 Axes>"
      ]
     },
     "metadata": {},
     "output_type": "display_data"
    }
   ],
   "source": [
    "ns = np.linspace(4, 9, 6)\n",
    "recalls = np.array(recalls)\n",
    "precisions = np.array(precisions)\n",
    "f1_scores = np.array(f1_scores)\n",
    "\n",
    "plt.plot(ns, recalls*100, 'r', label='Recall')\n",
    "plt.plot(ns, precisions*100, 'b', label='Precision')\n",
    "plt.plot(ns, f1_scores*100, 'd--', label='F1_Score')\n",
    "\n",
    "plt.grid(visible=True)\n",
    "plt.ylabel('Percent')\n",
    "plt.xlabel('n')\n",
    "\n",
    "leg = plt.legend()"
   ]
  },
  {
   "cell_type": "markdown",
   "metadata": {},
   "source": [
    "## YAKE!"
   ]
  },
  {
   "cell_type": "code",
   "execution_count": null,
   "metadata": {},
   "outputs": [],
   "source": [
    "# best params: n=7, dedupLim=no matter, \n",
    "def yake(texts, n=7):\n",
    "\tall_keywords = []\t\n",
    "\n",
    "\tfor text in texts:\n",
    "\t\tkw_extractor = KeywordExtractor(n=3, dedupLim=0.4, features=None, lan=\"fa\")\n",
    "\t\tkeywords = kw_extractor.extract_keywords(text)\n",
    "\t\tkeywords = [kw[0] for kw in keywords[:n]]\n",
    "\t\tall_keywords.append(keywords)\n",
    "\n",
    "\treturn all_keywords"
   ]
  },
  {
   "cell_type": "code",
   "execution_count": null,
   "metadata": {},
   "outputs": [],
   "source": [
    "trues = df.keywords\n",
    "\n",
    "precisions = []\n",
    "recalls = []\n",
    "f1_scores = []\n",
    "\n",
    "kw = yake(df.normalized)\n",
    "prec, rec, f1 = text_metrics(kw, trues)\n",
    "\n",
    "precisions.append(prec)\n",
    "recalls.append(rec)\n",
    "f1_scores.append(f1)\n",
    "    "
   ]
  },
  {
   "cell_type": "code",
   "execution_count": null,
   "metadata": {},
   "outputs": [
    {
     "data": {
      "image/png": "[encoded data removed]",
      "text/plain": [
       "<Figure size 640x480 with 1 Axes>"
      ]
     },
     "metadata": {},
     "output_type": "display_data"
    }
   ],
   "source": [
    "ns = np.linspace(5, 8, 4)\n",
    "recalls = np.array(recalls)\n",
    "precisions = np.array(precisions)\n",
    "f1_scores = np.array(f1_scores)\n",
    "\n",
    "plt.plot(ns, recalls*100, 'r', label='Recall')\n",
    "plt.plot(ns, precisions*100, 'b', label='Precision')\n",
    "plt.plot(ns, f1_scores*100, 'd--', label='F1_Score')\n",
    "\n",
    "plt.grid(visible=True)\n",
    "plt.ylabel('Percent')\n",
    "plt.xlabel('n')\n",
    "\n",
    "leg = plt.legend()"
   ]
  },
  {
   "cell_type": "markdown",
   "metadata": {},
   "source": [
    "## SG Rank"
   ]
  },
  {
   "cell_type": "code",
   "execution_count": null,
   "metadata": {},
   "outputs": [
    {
     "ename": "AttributeError",
     "evalue": "'str' object has no attribute 'start'",
     "output_type": "error",
     "traceback": [
      "\u001b[1;31m---------------------------------------------------------------------------\u001b[0m",
      "\u001b[1;31mAttributeError\u001b[0m                            Traceback (most recent call last)",
      "Cell \u001b[1;32mIn[55], line 3\u001b[0m\n\u001b[0;32m      1\u001b[0m \u001b[39m# import Algorithms\u001b[39;00m\n\u001b[0;32m      2\u001b[0m txt \u001b[39m=\u001b[39m df\u001b[39m.\u001b[39mnormalized\u001b[39m.\u001b[39miloc[\u001b[39m0\u001b[39m]\n\u001b[1;32m----> 3\u001b[0m SGRank\u001b[39m.\u001b[39;49msgrank([txt], \u001b[39m5\u001b[39;49m)\n",
      "Cell \u001b[1;32mIn[54], line 135\u001b[0m, in \u001b[0;36mSGRank.sgrank\u001b[1;34m(doc, kp_count, window, idf)\u001b[0m\n\u001b[0;32m    133\u001b[0m term_len \u001b[39m=\u001b[39m math\u001b[39m.\u001b[39msqrt(\u001b[39mlen\u001b[39m(term))\n\u001b[0;32m    134\u001b[0m term_freq \u001b[39m=\u001b[39m term_freqs[term_str]\n\u001b[1;32m--> 135\u001b[0m occ_factor \u001b[39m=\u001b[39m math\u001b[39m.\u001b[39mlog(cutoff_factor \u001b[39m/\u001b[39m (term\u001b[39m.\u001b[39;49mstart \u001b[39m+\u001b[39m \u001b[39m1\u001b[39m))\n\u001b[0;32m    136\u001b[0m \u001b[39m# Sum the frequencies of all other terms that contain this term\u001b[39;00m\n\u001b[0;32m    137\u001b[0m subsum_count \u001b[39m=\u001b[39m \u001b[39msum\u001b[39m(term_freqs[other] \u001b[39mfor\u001b[39;00m other \u001b[39min\u001b[39;00m top_terms\n\u001b[0;32m    138\u001b[0m                 \u001b[39mif\u001b[39;00m other \u001b[39m!=\u001b[39m term_str \u001b[39mand\u001b[39;00m term_str \u001b[39min\u001b[39;00m other)\n",
      "\u001b[1;31mAttributeError\u001b[0m: 'str' object has no attribute 'start'"
     ]
    }
   ],
   "source": [
    "# import Algorithms\n",
    "txt = df.normalized.iloc[0]\n",
    "SGRank.sgrank([txt], 5)"
   ]
  },
  {
   "cell_type": "code",
   "execution_count": null,
   "metadata": {},
   "outputs": [],
   "source": []
  },
  {
   "cell_type": "code",
   "execution_count": null,
   "metadata": {},
   "outputs": [],
   "source": []
  },
  {
   "cell_type": "code",
   "execution_count": null,
   "metadata": {},
   "outputs": [],
   "source": []
  },
  {
   "cell_type": "markdown",
   "metadata": {},
   "source": [
    "## Embed Rank"
   ]
  },
  {
   "cell_type": "code",
   "execution_count": 25,
   "metadata": {},
   "outputs": [],
   "source": [
    "def extract_candidates(tagged, grammer):\n",
    "    ## you can also add your own grammer to be extracted from the text...\n",
    "\n",
    "    \n",
    "    keyphrase_candidate = set()\n",
    "    np_parser = nltk.RegexpParser(grammer)\n",
    "    trees = np_parser.parse_sents(tagged)\n",
    "    for tree in trees:\n",
    "        for subtree in tree.subtrees(filter=lambda t: t.label() == 'NP'):  # For each nounphrase\n",
    "            # Concatenate the token with a space\n",
    "            keyphrase_candidate.add(' '.join(word for word, tag in subtree.leaves()))\n",
    "    keyphrase_candidate = {kp for kp in keyphrase_candidate if len(kp.split()) <= 5}\n",
    "    keyphrase_candidate = list(keyphrase_candidate)\n",
    "    return keyphrase_candidate\n"
   ]
  },
  {
   "cell_type": "code",
   "execution_count": null,
   "metadata": {},
   "outputs": [],
   "source": [
    "model_path = 'pos_tagger.model'\n",
    "tagger = POSTagger(model = model_path)\n",
    "token_tag_list = []\n",
    "for text_tokens in df.tokenized:\n",
    "    posed = tagger.tag_sents([text_tokens])\n",
    "    token_tag_list.append(posed)"
   ]
  },
  {
   "cell_type": "code",
   "execution_count": null,
   "metadata": {},
   "outputs": [],
   "source": [
    "grammers = [\n",
    "            \"\"\"\n",
    "            NP:\n",
    "                    {<NOUN,EZ>?<NOUN.*>}    # Noun(s) + Noun(optional)\n",
    "            \"\"\" ,\n",
    "\n",
    "            \"\"\"\n",
    "            NP:\n",
    "                    {<NOUN.*><ADJ.*>}    # Noun(s) + Adjective(optional)\n",
    "            \"\"\"]\n",
    "\n",
    "all_candidates1 = []\n",
    "\n",
    "for token_tag in token_tag_list:\n",
    "        temp_candidate = extract_candidates(token_tag, grammers[0])\n",
    "        temp_candidate += extract_candidates(token_tag, grammers[1])\n",
    "        all_candidates1.append(np.array(temp_candidate))\n"
   ]
  },
  {
   "cell_type": "code",
   "execution_count": null,
   "metadata": {},
   "outputs": [],
   "source": [
    "# all_candidates = Textrank(df.normalized, 100)"
   ]
  },
  {
   "cell_type": "code",
   "execution_count": null,
   "metadata": {},
   "outputs": [],
   "source": [
    "# all_candidates1 = all_candidates"
   ]
  },
  {
   "cell_type": "code",
   "execution_count": null,
   "metadata": {},
   "outputs": [],
   "source": [
    "sent2vec_model_path = 'sent2vec\\sent2vec-naab.model'\n",
    "sent2vec_model = SentEmbedding(sent2vec_model_path)"
   ]
  },
  {
   "cell_type": "code",
   "execution_count": null,
   "metadata": {},
   "outputs": [],
   "source": [
    "all_candidates_vectors = []\n",
    "for keyPhrases in all_candidates1:\n",
    "    candidadte_vec = np.asarray([sent2vec_model[candidate] for candidate in keyPhrases])\n",
    "    all_candidates_vectors.append(candidadte_vec)\n",
    "\n",
    "# all_candidates_vectors = np.ndarray(all_candidates_vectors)"
   ]
  },
  {
   "cell_type": "code",
   "execution_count": null,
   "metadata": {},
   "outputs": [],
   "source": [
    "all_sentences_vectors = []\n",
    "for txt in df.normalized:\n",
    "    sentence_vectorized = sent2vec_model[txt]\n",
    "    all_sentences_vectors.append(sentence_vectorized)\n",
    "    \n",
    "# all_sentences_vectors = np.asarray(all_sentences_vectors)"
   ]
  },
  {
   "cell_type": "code",
   "execution_count": null,
   "metadata": {},
   "outputs": [],
   "source": [
    "all_candidate_sim_candidate = []\n",
    "for candidate in all_candidates_vectors:\n",
    "    candidate_sim_candidate = cosine_similarity(candidate)\n",
    "    all_candidate_sim_candidate.append(candidate_sim_candidate)"
   ]
  },
  {
   "cell_type": "code",
   "execution_count": null,
   "metadata": {},
   "outputs": [],
   "source": [
    "all_candidates_sim_whole = []\n",
    "for i in range(450):\n",
    "    text_embeding = all_sentences_vectors[i]\n",
    "    candidate_embeddings = all_candidates_vectors[i]\n",
    "    \n",
    "    similarity = cosine_similarity(candidate_embeddings, text_embeding.reshape(1,-1))\n",
    "    similarity = similarity.reshape(1,-1)\n",
    "    all_candidates_sim_whole.append(similarity)\n",
    "\n",
    "# all_candidates_sim_whole[n] = cosine_similarity of all candidates of row 1 with whole text"
   ]
  },
  {
   "cell_type": "code",
   "execution_count": null,
   "metadata": {},
   "outputs": [],
   "source": [
    "for index, candidates_sim_whole in enumerate(all_candidates_sim_whole):\n",
    "    \n",
    "    candidates_sim_whole_norm = candidates_sim_whole / np.max(candidates_sim_whole)\n",
    "    candidates_sim_whole_norm = 0.5 + (candidates_sim_whole_norm - np.average(candidates_sim_whole_norm)) / np.std(candidates_sim_whole_norm)\n",
    "    all_candidates_sim_whole[index] = candidates_sim_whole_norm[0]"
   ]
  },
  {
   "cell_type": "code",
   "execution_count": null,
   "metadata": {},
   "outputs": [],
   "source": [
    "for index, candidate_sim_candidate in enumerate(all_candidate_sim_candidate):\n",
    "    \n",
    "    np.fill_diagonal(candidate_sim_candidate, np.NaN)\n",
    "    candidate_sim_candidate_norm = candidate_sim_candidate / np.nanmax(candidate_sim_candidate, axis=0)\n",
    "    candidate_sim_candidate_norm = 0.5 + (candidate_sim_candidate_norm - np.nanmean(candidate_sim_candidate_norm, axis=0)) / np.nanstd(candidate_sim_candidate_norm, axis=0)\n",
    "    all_candidate_sim_candidate[index] = candidate_sim_candidate_norm"
   ]
  },
  {
   "cell_type": "code",
   "execution_count": null,
   "metadata": {},
   "outputs": [],
   "source": [
    "from operator import itemgetter \n",
    "beta = 0.82\n",
    "keyword_count = 7\n",
    "kp_preds = []\n",
    "\n",
    "for index in range(450):\n",
    "    candidates = all_candidates1[index]\n",
    "    N = min(len(candidates), keyword_count)\n",
    "\n",
    "    selected_candidates = []\n",
    "    unselected_candidates = [i for i in range(len(candidates))]\n",
    "    best_candidate = np.argmax(all_candidates_sim_whole[index])\n",
    "    selected_candidates.append(best_candidate)\n",
    "    unselected_candidates.remove(best_candidate)\n",
    "\n",
    "\n",
    "    for i in range(N-1):\n",
    "        selected_vec = np.array(selected_candidates)\n",
    "        unselected_vec = np.array(unselected_candidates)\n",
    "    \n",
    "        unselected_candidate_sim_whole = all_candidates_sim_whole[index][unselected_vec]\n",
    "\n",
    "        dist_between = all_candidate_sim_candidate[index][unselected_vec]\n",
    "\n",
    "        if dist_between.ndim == 1:\n",
    "            print('if runed')\n",
    "            dist_between = dist_between[:, np.newaxis]\n",
    "\n",
    "        best_candidate = np.argmax(beta * unselected_candidate_sim_whole - (1 - beta) * np.nanmax(dist_between, axis = 1))\n",
    "        best_index = unselected_candidates[best_candidate]\n",
    "        \n",
    "\n",
    "        selected_candidates.append(best_index)\n",
    "        unselected_candidates.remove(best_index)\n",
    "\n",
    "    kp_pred = itemgetter(*selected_candidates)(all_candidates1[index])\n",
    "    kp_preds.append(list(kp_pred))"
   ]
  },
  {
   "cell_type": "code",
   "execution_count": null,
   "metadata": {},
   "outputs": [
    {
     "name": "stdout",
     "output_type": "stream",
     "text": [
      "Precision: 0.06476097960505321, Recall: 0.10564814785904218, F1-Score: 0.08025233194923001\n",
      "Precision: 0.06476097960505321, Recall: 0.10564814785904218, F1-Score: 0.08025233194923001\n",
      "Precision: 0.06460224906844358, Recall: 0.10509260619202831, F1-Score: 0.07996966351017344\n",
      "Precision: 0.06684549684821532, Recall: 0.10085198737605373, F1-Score: 0.0803528281183516\n"
     ]
    }
   ],
   "source": [
    "prec, rec, f1 = text_metrics(kp_preds, trues)\n",
    "print(f\"Precision: {prec}, Recall: {rec}, F1-Score: {f1}\") #0.074,  0.4, 0.62\n",
    "\n",
    "kp_preds1 = filter1(kp_preds)\n",
    "prec, rec, f1 = text_metrics(kp_preds1, trues)\n",
    "print(f\"Precision: {prec}, Recall: {rec}, F1-Score: {f1}\") #0.074,  0.4, 0.62\n",
    "\n",
    "kp_preds1 = filter2(kp_preds, descrete_ngrams, word2score)\n",
    "prec, rec, f1 = text_metrics(kp_preds1, trues)\n",
    "print(f\"Precision: {prec}, Recall: {rec}, F1-Score: {f1}\") #0.074,  0.4, 0.62\n",
    "\n",
    "kp_preds1 = filter3(kp_preds, word2score)\n",
    "prec, rec, f1 = text_metrics(kp_preds1, trues)\n",
    "print(f\"Precision: {prec}, Recall: {rec}, F1-Score: {f1}\") #0.074,  0.4, 0.62"
   ]
  },
  {
   "cell_type": "markdown",
   "metadata": {},
   "source": [
    "## TF-idf with chunking, KP-Miner"
   ]
  },
  {
   "cell_type": "code",
   "execution_count": 20,
   "metadata": {},
   "outputs": [],
   "source": [
    "def increment_score(kp, score):\n",
    "    length = len(kp.split())\n",
    "\n",
    "    factor1 = 0.045\n",
    "    factor2 = 0.12\n",
    "    factor3 = 0.03\n",
    "    # 100:\n",
    "    # 045, 12, 03 ==> Precision: 0.3845, Recall: 0.3242, F1-Score: 0.3518\n",
    "    \n",
    "    # whole:\n",
    "    # 04, 10, 03  ==> Precision: 0.3656, Recall: 0.3094, F1-Score: 0.3351\n",
    "\n",
    "\n",
    "    if length == 1:\n",
    "        score += factor1\n",
    "\n",
    "    if length == 2:\n",
    "        score += factor2\n",
    "\n",
    "    if length == 3:\n",
    "        score += factor3\n",
    "\n",
    "    return score"
   ]
  },
  {
   "cell_type": "markdown",
   "metadata": {},
   "source": [
    "### N_Grams"
   ]
  },
  {
   "cell_type": "code",
   "execution_count": 21,
   "metadata": {},
   "outputs": [
    {
     "name": "stderr",
     "output_type": "stream",
     "text": [
      "c:\\Users\\asus\\AppData\\Local\\Programs\\Python\\Python310\\lib\\site-packages\\sklearn\\feature_extraction\\text.py:408: UserWarning: Your stop_words may be inconsistent with your preprocessing. Tokenizing the stop words generated tokens ['آید', 'توان', 'تواند', 'توانند', 'رسد', 'رود', 'سال', 'نمی', 'های', 'گوید', 'گویند'] not in stop_words.\n",
      "  warnings.warn(\n"
     ]
    }
   ],
   "source": [
    "tfidf = TfidfVectorizer(stop_words=utils.stopwords_list(), ngram_range=(1, 3))\n",
    "tfidf_scores = tfidf.fit_transform(df.sticked_tokenized).toarray()\n",
    "features = tfidf.get_feature_names_out()"
   ]
  },
  {
   "cell_type": "code",
   "execution_count": 22,
   "metadata": {},
   "outputs": [],
   "source": [
    "word2score = {}\n",
    "scores = tfidf_scores.max(axis=0)\n",
    "\n",
    "for feature, index in tfidf.vocabulary_.items():\n",
    "    score = scores[index]\n",
    "    word2score[feature] = score"
   ]
  },
  {
   "cell_type": "code",
   "execution_count": 23,
   "metadata": {},
   "outputs": [],
   "source": [
    "descrete_ngrams = []\n",
    "for text in df.sticked_tokenized:\n",
    "    tfidf.fit([text])\n",
    "    ngrams = tfidf.get_feature_names_out()\n",
    "    descrete_ngrams.append(ngrams)"
   ]
  },
  {
   "cell_type": "markdown",
   "metadata": {},
   "source": [
    "### Model"
   ]
  },
  {
   "cell_type": "code",
   "execution_count": 26,
   "metadata": {},
   "outputs": [],
   "source": [
    "model_path = 'pos_tagger.model'\n",
    "tagger = POSTagger(model = model_path)\n",
    "token_tag_list = []\n",
    "for text_tokens in df.tokenized:\n",
    "    posed = tagger.tag_sents([text_tokens])\n",
    "    token_tag_list.append(posed)\n",
    "\n",
    "grammers = [\n",
    "            \"\"\"\n",
    "            NP:\n",
    "                    {<NOUN,EZ>?<NOUN.*>}    # Noun(s) + Noun(optional)\n",
    "            \"\"\" ,\n",
    "\n",
    "            \"\"\"\n",
    "            NP:\n",
    "                    {<NOUN.*><ADJ.*>}    # Noun(s) + Adjective(optional)\n",
    "            \"\"\"]\n",
    "\n",
    "all_candidates1 = []\n",
    "\n",
    "for token_tag in token_tag_list:\n",
    "        temp_candidate = extract_candidates(token_tag, grammers[0])\n",
    "        temp_candidate += extract_candidates(token_tag, grammers[1])\n",
    "        all_candidates1.append(np.array(temp_candidate))"
   ]
  },
  {
   "cell_type": "code",
   "execution_count": 27,
   "metadata": {},
   "outputs": [],
   "source": [
    "trues = df.keywords\n",
    "chunk_indexes = []  # 2m, 44s\n",
    "chunk_features = []\n",
    "chunk_scores = []\n",
    "\n",
    "for i in range(450):\n",
    "    tmp_indexes = []\n",
    "    tmp_features = []\n",
    "    tmp_scores = []\n",
    "\n",
    "    for index, feature in enumerate(features):\n",
    "        if feature in all_candidates1[i]:\n",
    "            tmp_indexes.append(index)\n",
    "            tmp_features.append(feature)\n",
    "            score = tfidf_scores[i][index]\n",
    "            score = increment_score(feature, score)\n",
    "            tmp_scores.append(score)\n",
    "\n",
    "    chunk_indexes.append(tmp_indexes)\n",
    "    chunk_features.append(tmp_features)\n",
    "    chunk_scores.append(tmp_scores)\n",
    "\n",
    "\n",
    "feature_score = []\n",
    "\n",
    "for i in range(len(chunk_features)):\n",
    "    tmp = []\n",
    "    for feature, score in zip(chunk_features[i], chunk_scores[i]):\n",
    "        tmp.append((feature, score))\n",
    "\n",
    "    feature_score.append(sorted(tmp, key=lambda x : x[1], reverse=True))"
   ]
  },
  {
   "cell_type": "markdown",
   "metadata": {},
   "source": [
    "### With Threshold"
   ]
  },
  {
   "cell_type": "code",
   "execution_count": 36,
   "metadata": {},
   "outputs": [
    {
     "name": "stdout",
     "output_type": "stream",
     "text": [
      "Precision: 0.3014306855937688, Recall: 0.32293868904707257, F1-Score: 0.31176430549600104\n",
      "Precision: 0.3072289155084192, Recall: 0.32346723027300883, F1-Score: 0.3150890728293176\n",
      "Precision: 0.3401281302620104, Recall: 0.30866807594679274, F1-Score: 0.32358548112568875\n"
     ]
    }
   ],
   "source": [
    "preds = []\n",
    "for pred in feature_score:\n",
    "    tmp_pred = []\n",
    "    for feature, score in pred:\n",
    "        if score >= 0.2012:\n",
    "            tmp_pred.append(feature)\n",
    "\n",
    "    preds.append(tmp_pred)\n",
    "\n",
    "prec, rec, f1 = text_metrics(preds, trues)\n",
    "print(f\"Precision: {prec}, Recall: {rec}, F1-Score: {f1}\")     \n",
    "\n",
    "preds = filter2(preds, descrete_ngrams, word2score)\n",
    "prec, rec, f1 = text_metrics(preds, trues)\n",
    "print(f\"Precision: {prec}, Recall: {rec}, F1-Score: {f1}\") \n",
    "\n",
    "preds = filter3(preds, word2score)\n",
    "prec, rec, f1 = text_metrics(preds, trues)\n",
    "print(f\"Precision: {prec}, Recall: {rec}, F1-Score: {f1}\") "
   ]
  },
  {
   "cell_type": "code",
   "execution_count": 40,
   "metadata": {},
   "outputs": [],
   "source": [
    "prec, rec, f1 = text_metrics(preds, trues)"
   ]
  },
  {
   "cell_type": "code",
   "execution_count": 48,
   "metadata": {},
   "outputs": [
    {
     "data": {
      "text/html": [
       "<div>\n",
       "<style scoped>\n",
       "    .dataframe tbody tr th:only-of-type {\n",
       "        vertical-align: middle;\n",
       "    }\n",
       "\n",
       "    .dataframe tbody tr th {\n",
       "        vertical-align: top;\n",
       "    }\n",
       "\n",
       "    .dataframe thead th {\n",
       "        text-align: right;\n",
       "    }\n",
       "</style>\n",
       "<table border=\"1\" class=\"dataframe\">\n",
       "  <thead>\n",
       "    <tr style=\"text-align: right;\">\n",
       "      <th></th>\n",
       "      <th>body</th>\n",
       "      <th>keywords</th>\n",
       "      <th>other_keywords</th>\n",
       "      <th>normalized</th>\n",
       "      <th>tokenized</th>\n",
       "      <th>sticked_tokenized</th>\n",
       "    </tr>\n",
       "  </thead>\n",
       "  <tbody>\n",
       "    <tr>\n",
       "      <th>1</th>\n",
       "      <td>چکیده:           این پژوهش براساس چارچوب نظری ...</td>\n",
       "      <td>[سید محمد خاتمی, آدریان لفت ویچ, پیتر ایوانز, ...</td>\n",
       "      <td>[دولت توسعه گرا]</td>\n",
       "      <td>چکیده: این پژوهش براساس چارچوب نظری دولت توسعه...</td>\n",
       "      <td>[چکیده, :, این, پژوهش, براساس, چارچوب, نظری, د...</td>\n",
       "      <td>چکیده : این پژوهش براساس چارچوب نظری دولت توسع...</td>\n",
       "    </tr>\n",
       "    <tr>\n",
       "      <th>3</th>\n",
       "      <td>آزادی موهبتی است الهی که خدای متعال به انسان ع...</td>\n",
       "      <td>[آزادی بیان, بدعت, دین, ارتداد, کتب ضلال, اهان...</td>\n",
       "      <td>[محدودیت بازدارنده, قانون مدنی]</td>\n",
       "      <td>آزادی موهبتی است الهی که خدای متعال به انسان ع...</td>\n",
       "      <td>[آزادی, موهبتی, است, الهی, که, خدای, متعال, به...</td>\n",
       "      <td>آزادی موهبتی است الهی که خدای متعال به انسان ع...</td>\n",
       "    </tr>\n",
       "    <tr>\n",
       "      <th>11</th>\n",
       "      <td>هدف از پژوهش حاضر تعیین تاثیر آموزش فلسفه برای...</td>\n",
       "      <td>[اجتماع پژوهشی, آموزش فلسفه برای کودکان]</td>\n",
       "      <td>[تاب‌آوری, انعطاف‌پذیری شناختی]</td>\n",
       "      <td>هدف از پژوهش حاضر تعیین تاثیر آموزش فلسفه برای...</td>\n",
       "      <td>[هدف, از, پژوهش, حاضر, تعیین, تاثیر, آموزش, فل...</td>\n",
       "      <td>هدف از پژوهش حاضر تعیین تاثیر آموزش فلسفه برای...</td>\n",
       "    </tr>\n",
       "    <tr>\n",
       "      <th>14</th>\n",
       "      <td>اصل امامت و ولایت و نیز فضائل اهل بیت پیامبراک...</td>\n",
       "      <td>[محمد عزه دروزه, سیاق, روایات سبب نزول]</td>\n",
       "      <td>[آیات امامت و ولایت, التفسیرالحدیث]</td>\n",
       "      <td>اصل امامت و ولایت و نیز فضائل اهل‌بیت پیامبراک...</td>\n",
       "      <td>[اصل, امامت, و, ولایت, و, نیز, فضائل, اهل‌بیت,...</td>\n",
       "      <td>اصل امامت و ولایت و نیز فضائل اهل‌بیت پیامبراک...</td>\n",
       "    </tr>\n",
       "    <tr>\n",
       "      <th>15</th>\n",
       "      <td>این رساله، به بررسی تحلیلی و تطبیقی دیدگاه‌ها ...</td>\n",
       "      <td>[علامه طباطبایی, علامه جوادی آملی, آیات توحیدی...</td>\n",
       "      <td>[برهان]</td>\n",
       "      <td>این رساله، به بررسی تحلیلی و تطبیقی دیدگاه‌ها ...</td>\n",
       "      <td>[این, رساله, ،, به, بررسی, تحلیلی, و, تطبیقی, ...</td>\n",
       "      <td>این رساله ، به بررسی تحلیلی و تطبیقی دیدگاه‌ها...</td>\n",
       "    </tr>\n",
       "    <tr>\n",
       "      <th>...</th>\n",
       "      <td>...</td>\n",
       "      <td>...</td>\n",
       "      <td>...</td>\n",
       "      <td>...</td>\n",
       "      <td>...</td>\n",
       "      <td>...</td>\n",
       "    </tr>\n",
       "    <tr>\n",
       "      <th>439</th>\n",
       "      <td>بخش عمده‌ای از آثار منثور فارسی به نثرهای عرفا...</td>\n",
       "      <td>[رساله قشیریه, مرصادالعباد, کشف المحجوب, کیمیا...</td>\n",
       "      <td>[کتاب‌های تعلیمی عرفانی]</td>\n",
       "      <td>بخش عمده‌ای از آثار منثور فارسی به نثرهای عرفا...</td>\n",
       "      <td>[بخش, عمده‌ای, از, آثار, منثور, فارسی, به, نثر...</td>\n",
       "      <td>بخش عمده‌ای از آثار منثور فارسی به نثرهای عرفا...</td>\n",
       "    </tr>\n",
       "    <tr>\n",
       "      <th>444</th>\n",
       "      <td>ملاصدرا مانند سایر فلاسفه اسلامی با دو تلقی از...</td>\n",
       "      <td>[ملاصدرا, عقل نظری, نهج البلاغه, عقل عملی]</td>\n",
       "      <td>[کمال انسانی ‌]</td>\n",
       "      <td>ملاصدرا مانند سایر فلاسفه اسلامی با دو تلقی از...</td>\n",
       "      <td>[ملاصدرا, مانند, سایر, فلاسفه, اسلامی, با, دو,...</td>\n",
       "      <td>ملاصدرا مانند سایر فلاسفه اسلامی با دو تلقی از...</td>\n",
       "    </tr>\n",
       "    <tr>\n",
       "      <th>446</th>\n",
       "      <td>سازمان ملل متحد در دهه های اخیر، با تغییر ساخت...</td>\n",
       "      <td>[کمیسیون حقوق بشر, حقوق بشر در ایران, شورای حق...</td>\n",
       "      <td>[بررسی دوره‌ای جهانی, ضمانت اجرای تصمیمات شورا...</td>\n",
       "      <td>سازمان ملل متحد در دهه‌های اخیر، با تغییر ساخت...</td>\n",
       "      <td>[سازمان, ملل, متحد, در, دهه‌های, اخیر, ،, با, ...</td>\n",
       "      <td>سازمان ملل متحد در دهه‌های اخیر ، با تغییر ساخ...</td>\n",
       "    </tr>\n",
       "    <tr>\n",
       "      <th>448</th>\n",
       "      <td>هدف از انجام این تحقیق بررسی تاثیر کیفیت زندگی...</td>\n",
       "      <td>[نوع دوستی, رفتار شهروندی سازمانی, تواضع, کیفی...</td>\n",
       "      <td>[مدل GSTARS 2.1]</td>\n",
       "      <td>هدف از انجام این تحقیق بررسی تاثیر کیفیت زندگی...</td>\n",
       "      <td>[هدف, از, انجام, این, تحقیق, بررسی, تاثیر, کیف...</td>\n",
       "      <td>هدف از انجام این تحقیق بررسی تاثیر کیفیت زندگی...</td>\n",
       "    </tr>\n",
       "    <tr>\n",
       "      <th>449</th>\n",
       "      <td>هدف از پژوهش حاضر تبیین رابطه بین جهت گیری زند...</td>\n",
       "      <td>[کارکنان, کیفیت زندگی کاری]</td>\n",
       "      <td>[عمل‌کرد شغل, جهت‌گیری زندگی, دانشگاه آزاد اسل...</td>\n",
       "      <td>هدف از پژوهش حاضر تبیین رابطه بین جهت‌گیری زند...</td>\n",
       "      <td>[هدف, از, پژوهش, حاضر, تبیین, رابطه, بین, جهت‌...</td>\n",
       "      <td>هدف از پژوهش حاضر تبیین رابطه بین جهت‌گیری زند...</td>\n",
       "    </tr>\n",
       "  </tbody>\n",
       "</table>\n",
       "<p>110 rows × 6 columns</p>\n",
       "</div>"
      ],
      "text/plain": [
       "                                                  body  \\\n",
       "1    چکیده:           این پژوهش براساس چارچوب نظری ...   \n",
       "3    آزادی موهبتی است الهی که خدای متعال به انسان ع...   \n",
       "11   هدف از پژوهش حاضر تعیین تاثیر آموزش فلسفه برای...   \n",
       "14   اصل امامت و ولایت و نیز فضائل اهل بیت پیامبراک...   \n",
       "15   این رساله، به بررسی تحلیلی و تطبیقی دیدگاه‌ها ...   \n",
       "..                                                 ...   \n",
       "439  بخش عمده‌ای از آثار منثور فارسی به نثرهای عرفا...   \n",
       "444  ملاصدرا مانند سایر فلاسفه اسلامی با دو تلقی از...   \n",
       "446  سازمان ملل متحد در دهه های اخیر، با تغییر ساخت...   \n",
       "448  هدف از انجام این تحقیق بررسی تاثیر کیفیت زندگی...   \n",
       "449  هدف از پژوهش حاضر تبیین رابطه بین جهت گیری زند...   \n",
       "\n",
       "                                              keywords  \\\n",
       "1    [سید محمد خاتمی, آدریان لفت ویچ, پیتر ایوانز, ...   \n",
       "3    [آزادی بیان, بدعت, دین, ارتداد, کتب ضلال, اهان...   \n",
       "11            [اجتماع پژوهشی, آموزش فلسفه برای کودکان]   \n",
       "14             [محمد عزه دروزه, سیاق, روایات سبب نزول]   \n",
       "15   [علامه طباطبایی, علامه جوادی آملی, آیات توحیدی...   \n",
       "..                                                 ...   \n",
       "439  [رساله قشیریه, مرصادالعباد, کشف المحجوب, کیمیا...   \n",
       "444         [ملاصدرا, عقل نظری, نهج البلاغه, عقل عملی]   \n",
       "446  [کمیسیون حقوق بشر, حقوق بشر در ایران, شورای حق...   \n",
       "448  [نوع دوستی, رفتار شهروندی سازمانی, تواضع, کیفی...   \n",
       "449                        [کارکنان, کیفیت زندگی کاری]   \n",
       "\n",
       "                                        other_keywords  \\\n",
       "1                                     [دولت توسعه گرا]   \n",
       "3                      [محدودیت بازدارنده, قانون مدنی]   \n",
       "11                     [تاب‌آوری, انعطاف‌پذیری شناختی]   \n",
       "14                 [آیات امامت و ولایت, التفسیرالحدیث]   \n",
       "15                                             [برهان]   \n",
       "..                                                 ...   \n",
       "439                           [کتاب‌های تعلیمی عرفانی]   \n",
       "444                                    [کمال انسانی ‌]   \n",
       "446  [بررسی دوره‌ای جهانی, ضمانت اجرای تصمیمات شورا...   \n",
       "448                                   [مدل GSTARS 2.1]   \n",
       "449  [عمل‌کرد شغل, جهت‌گیری زندگی, دانشگاه آزاد اسل...   \n",
       "\n",
       "                                            normalized  \\\n",
       "1    چکیده: این پژوهش براساس چارچوب نظری دولت توسعه...   \n",
       "3    آزادی موهبتی است الهی که خدای متعال به انسان ع...   \n",
       "11   هدف از پژوهش حاضر تعیین تاثیر آموزش فلسفه برای...   \n",
       "14   اصل امامت و ولایت و نیز فضائل اهل‌بیت پیامبراک...   \n",
       "15   این رساله، به بررسی تحلیلی و تطبیقی دیدگاه‌ها ...   \n",
       "..                                                 ...   \n",
       "439  بخش عمده‌ای از آثار منثور فارسی به نثرهای عرفا...   \n",
       "444  ملاصدرا مانند سایر فلاسفه اسلامی با دو تلقی از...   \n",
       "446  سازمان ملل متحد در دهه‌های اخیر، با تغییر ساخت...   \n",
       "448  هدف از انجام این تحقیق بررسی تاثیر کیفیت زندگی...   \n",
       "449  هدف از پژوهش حاضر تبیین رابطه بین جهت‌گیری زند...   \n",
       "\n",
       "                                             tokenized  \\\n",
       "1    [چکیده, :, این, پژوهش, براساس, چارچوب, نظری, د...   \n",
       "3    [آزادی, موهبتی, است, الهی, که, خدای, متعال, به...   \n",
       "11   [هدف, از, پژوهش, حاضر, تعیین, تاثیر, آموزش, فل...   \n",
       "14   [اصل, امامت, و, ولایت, و, نیز, فضائل, اهل‌بیت,...   \n",
       "15   [این, رساله, ،, به, بررسی, تحلیلی, و, تطبیقی, ...   \n",
       "..                                                 ...   \n",
       "439  [بخش, عمده‌ای, از, آثار, منثور, فارسی, به, نثر...   \n",
       "444  [ملاصدرا, مانند, سایر, فلاسفه, اسلامی, با, دو,...   \n",
       "446  [سازمان, ملل, متحد, در, دهه‌های, اخیر, ،, با, ...   \n",
       "448  [هدف, از, انجام, این, تحقیق, بررسی, تاثیر, کیف...   \n",
       "449  [هدف, از, پژوهش, حاضر, تبیین, رابطه, بین, جهت‌...   \n",
       "\n",
       "                                     sticked_tokenized  \n",
       "1    چکیده : این پژوهش براساس چارچوب نظری دولت توسع...  \n",
       "3    آزادی موهبتی است الهی که خدای متعال به انسان ع...  \n",
       "11   هدف از پژوهش حاضر تعیین تاثیر آموزش فلسفه برای...  \n",
       "14   اصل امامت و ولایت و نیز فضائل اهل‌بیت پیامبراک...  \n",
       "15   این رساله ، به بررسی تحلیلی و تطبیقی دیدگاه‌ها...  \n",
       "..                                                 ...  \n",
       "439  بخش عمده‌ای از آثار منثور فارسی به نثرهای عرفا...  \n",
       "444  ملاصدرا مانند سایر فلاسفه اسلامی با دو تلقی از...  \n",
       "446  سازمان ملل متحد در دهه‌های اخیر ، با تغییر ساخ...  \n",
       "448  هدف از انجام این تحقیق بررسی تاثیر کیفیت زندگی...  \n",
       "449  هدف از پژوهش حاضر تبیین رابطه بین جهت‌گیری زند...  \n",
       "\n",
       "[110 rows x 6 columns]"
      ]
     },
     "execution_count": 48,
     "metadata": {},
     "output_type": "execute_result"
    }
   ],
   "source": [
    "df.iloc[map(lambda x : True if x == 0.0 else False, f1)]"
   ]
  },
  {
   "cell_type": "code",
   "execution_count": 55,
   "metadata": {},
   "outputs": [
    {
     "data": {
      "text/plain": [
       "['زندگی کاری', 'عملکرد شغلی', 'کیفیت زندگی', 'واحد مرودشت', 'کارکنان دانشگاه']"
      ]
     },
     "execution_count": 55,
     "metadata": {},
     "output_type": "execute_result"
    }
   ],
   "source": [
    "preds[449]"
   ]
  },
  {
   "cell_type": "code",
   "execution_count": 56,
   "metadata": {},
   "outputs": [
    {
     "data": {
      "text/plain": [
       "['کارکنان', 'کیفیت زندگی کاری']"
      ]
     },
     "execution_count": 56,
     "metadata": {},
     "output_type": "execute_result"
    }
   ],
   "source": [
    "trues[449]"
   ]
  },
  {
   "cell_type": "markdown",
   "metadata": {},
   "source": [
    "### With N_Best"
   ]
  },
  {
   "cell_type": "code",
   "execution_count": 35,
   "metadata": {},
   "outputs": [
    {
     "name": "stdout",
     "output_type": "stream",
     "text": [
      "Precision: 0.30999999982777776, Recall: 0.29477020586647107, F1-Score: 0.3021433785549371\n",
      "Precision: 0.3151071024153849, Recall: 0.2952984678841529, F1-Score: 0.3048314350908338\n",
      "Precision: 0.3474025971770113, Recall: 0.28262017945978857, F1-Score: 0.31163128202729873\n"
     ]
    }
   ],
   "source": [
    "preds = []\n",
    "n_best = 4\n",
    "for pred in feature_score:\n",
    "    tmp_pred = []\n",
    "    for feature, score in pred[:n_best]:\n",
    "        tmp_pred.append(feature)\n",
    "\n",
    "    preds.append(tmp_pred)\n",
    "\n",
    "prec, rec, f1 = text_metrics(preds, trues)\n",
    "print(f\"Precision: {prec}, Recall: {rec}, F1-Score: {f1}\")     \n",
    "\n",
    "preds = filter2(preds, descrete_ngrams, word2score)\n",
    "\n",
    "prec, rec, f1 = text_metrics(preds, trues)\n",
    "print(f\"Precision: {prec}, Recall: {rec}, F1-Score: {f1}\") \n",
    "\n",
    "preds = filter3(preds, word2score)\n",
    "\n",
    "prec, rec, f1 = text_metrics(preds, trues)\n",
    "print(f\"Precision: {prec}, Recall: {rec}, F1-Score: {f1}\") "
   ]
  },
  {
   "cell_type": "markdown",
   "metadata": {},
   "source": [
    "### Test"
   ]
  },
  {
   "cell_type": "code",
   "execution_count": 897,
   "metadata": {},
   "outputs": [
    {
     "name": "stdout",
     "output_type": "stream",
     "text": [
      "True KeyPhrases From Sentences(80, 85)\n",
      "['خبر تلویزیونی', 'جنگ نرم', 'امنیت نرم', 'قدرت نرم']\n",
      "['استقلال', 'امنیت ملی', 'کردستان عراق', 'جمهوری اسلامی ایران']\n",
      "['عوامل انحراف', 'نهج البلاغه', 'موانع انحراف', 'انحراف اعتقادی']\n",
      "['حواله', 'انحلال', 'عقد تبعی', 'عقد حواله', 'عقد ضمان']\n",
      "['امام خمینی', 'دکتر شریعتی', 'بررسی تطبیقی', 'اندیشه سیاسی']\n",
      "-------------------------------------------------------------------------------------------------------------------\n",
      "Predicted KeyPhrases\n",
      "['امنیت نرم', 'خبر تلویزیونی', 'تقویت امنیت', 'زوج نقاط']\n",
      "['اقلیم کردستان', 'کردستان عراق', 'امنیت ملی']\n",
      "['انحراف اعتقادی', 'موانع انحراف']\n",
      "['عقد', 'عقد ضمان', 'منشاء دین', 'حواله', 'بطلان قرارداد', 'صورت بطلان', 'عقد حواله', 'قرارداد منشاء', 'فسخ']\n",
      "['اندیشه سیاسی', 'انقلاب اسلامی', 'دکتر شریعتی']\n"
     ]
    }
   ],
   "source": [
    "print('True KeyPhrases From Sentences(80, 85)')\n",
    "for i in trues[80:85]:\n",
    "    print(i)\n",
    "\n",
    "print('-------------------------------------------------------------------------------------------------------------------')\n",
    "print('Predicted KeyPhrases')\n",
    "for i in preds[80:85]:\n",
    "    print(i)"
   ]
  },
  {
   "cell_type": "markdown",
   "metadata": {},
   "source": [
    "## Runtime Comparison"
   ]
  },
  {
   "cell_type": "code",
   "execution_count": null,
   "metadata": {},
   "outputs": [],
   "source": [
    "trues = df.keywords\n",
    "# trues = df.keywords + df.other_keywords"
   ]
  },
  {
   "cell_type": "markdown",
   "metadata": {},
   "source": [
    "### Singlerank"
   ]
  },
  {
   "cell_type": "code",
   "execution_count": 918,
   "metadata": {},
   "outputs": [],
   "source": [
    "key_phrases_sr = Singlerank(df.normalized, 7)"
   ]
  },
  {
   "cell_type": "code",
   "execution_count": null,
   "metadata": {},
   "outputs": [
    {
     "name": "stdout",
     "output_type": "stream",
     "text": [
      "Precision: 0.15269623132367974, Recall: 0.26670741382030405, F1-Score: 0.19415906120418883\n",
      "Precision: 0.19250923232663342, Recall: 0.2628715614283458, F1-Score: 0.22220564811914686\n",
      "Precision: 0.19324994802392353, Recall: 0.26268638704515396, F1-Score: 0.22263195600578115\n",
      "Precision: 0.24081750225147092, Recall: 0.24619384378403708, F1-Score: 0.24342601342502435\n"
     ]
    }
   ],
   "source": [
    "prec, rec, f1 = text_metrics(key_phrases_sr, trues)\n",
    "print(f\"Precision: {prec}, Recall: {rec}, F1-Score: {f1}\") \n",
    "\n",
    "key_phrases_sr1 = filter1(key_phrases_sr)\n",
    "prec, rec, f1 = text_metrics(key_phrases_sr1, trues)\n",
    "print(f\"Precision: {prec}, Recall: {rec}, F1-Score: {f1}\") \n",
    "\n",
    "key_phrases_sr1 = filter2(key_phrases_sr1, descrete_ngrams, word2score)\n",
    "prec, rec, f1 = text_metrics(key_phrases_sr1, trues)\n",
    "print(f\"Precision: {prec}, Recall: {rec}, F1-Score: {f1}\") \n",
    "\n",
    "key_phrases_sr1 = filter3(key_phrases_sr1, word2score)\n",
    "prec, rec, f1 = text_metrics(key_phrases_sr1, trues)\n",
    "print(f\"Precision: {prec}, Recall: {rec}, F1-Score: {f1}\") "
   ]
  },
  {
   "cell_type": "markdown",
   "metadata": {},
   "source": [
    "### TextRank"
   ]
  },
  {
   "cell_type": "code",
   "execution_count": 919,
   "metadata": {},
   "outputs": [],
   "source": [
    "key_phrases_ter = Textrank(df.normalized, 5) "
   ]
  },
  {
   "cell_type": "code",
   "execution_count": null,
   "metadata": {},
   "outputs": [
    {
     "name": "stdout",
     "output_type": "stream",
     "text": [
      "Precision: 0.18444075562933132, Recall: 0.23105231622581876, F1-Score: 0.20508264781396707\n",
      "Precision: 0.21569791452510764, Recall: 0.22920051684158524, F1-Score: 0.22219437196203598\n",
      "Precision: 0.21747561600938045, Recall: 0.22975605850859912, F1-Score: 0.22339728305573658\n",
      "Precision: 0.26502677634874516, Recall: 0.21896709315156718, F1-Score: 0.23975574358880744\n"
     ]
    }
   ],
   "source": [
    "prec, rec, f1 = text_metrics(key_phrases_ter, trues)\n",
    "print(f\"Precision: {prec}, Recall: {rec}, F1-Score: {f1}\")\n",
    "# print(key_phrases_ter)\n",
    "\n",
    "\n",
    "key_phrases_ter1 = filter1(key_phrases_ter)\n",
    "prec, rec, f1 = text_metrics(key_phrases_ter1, trues)\n",
    "print(f\"Precision: {prec}, Recall: {rec}, F1-Score: {f1}\")\n",
    "# print(key_phrases_ter)\n",
    "\n",
    "\n",
    "key_phrases_ter1 = filter2(key_phrases_ter1, descrete_ngrams, word2score)\n",
    "prec, rec, f1 = text_metrics(key_phrases_ter1, trues)\n",
    "print(f\"Precision: {prec}, Recall: {rec}, F1-Score: {f1}\")\n",
    "# print(key_phrases_ter)\n",
    "\n",
    "key_phrases_ter1 = filter3(key_phrases_ter1, word2score)\n",
    "prec, rec, f1 = text_metrics(key_phrases_ter1, trues)\n",
    "print(f\"Precision: {prec}, Recall: {rec}, F1-Score: {f1}\")\n",
    "# print(key_phrases_ter)"
   ]
  },
  {
   "cell_type": "markdown",
   "metadata": {},
   "source": [
    "### PositionRank"
   ]
  },
  {
   "cell_type": "code",
   "execution_count": 920,
   "metadata": {},
   "outputs": [],
   "source": [
    "key_phrases_pr = Positionrank(df.normalized, 5) "
   ]
  },
  {
   "cell_type": "code",
   "execution_count": null,
   "metadata": {},
   "outputs": [
    {
     "name": "stdout",
     "output_type": "stream",
     "text": [
      "Precision: 0.05910992891253294, Recall: 0.0681075277683461, F1-Score: 0.06324083483517959\n",
      "Precision: 0.05910992891253294, Recall: 0.0681075277683461, F1-Score: 0.06324083483517959\n",
      "Precision: 0.08614619251447775, Recall: 0.09214914836855506, F1-Score: 0.08899669953384674\n",
      "Precision: 0.08636840473703883, Recall: 0.09214914836855506, F1-Score: 0.08911526111617699\n"
     ]
    }
   ],
   "source": [
    "prec, rec, f1 = text_metrics(key_phrases_pr, trues)\n",
    "print(f\"Precision: {prec}, Recall: {rec}, F1-Score: {f1}\")\n",
    "\n",
    "key_phrases_pr1 = filter1(key_phrases_pr)\n",
    "prec, rec, f1 = text_metrics(key_phrases_pr1, trues)\n",
    "print(f\"Precision: {prec}, Recall: {rec}, F1-Score: {f1}\")\n",
    "\n",
    "key_phrases_pr1 = filter2(key_phrases_pr1, descrete_ngrams, word2score)\n",
    "prec, rec, f1 = text_metrics(key_phrases_pr1, trues)\n",
    "print(f\"Precision: {prec}, Recall: {rec}, F1-Score: {f1}\")\n",
    "\n",
    "key_phrases_pr1 = filter3(key_phrases_pr1, word2score)\n",
    "prec, rec, f1 = text_metrics(key_phrases_pr1, trues)\n",
    "print(f\"Precision: {prec}, Recall: {rec}, F1-Score: {f1}\")"
   ]
  },
  {
   "cell_type": "markdown",
   "metadata": {},
   "source": [
    "### TopicRank"
   ]
  },
  {
   "cell_type": "code",
   "execution_count": 921,
   "metadata": {},
   "outputs": [],
   "source": [
    "key_phrases_tor = Topicrank(df.normalized, 4) "
   ]
  },
  {
   "cell_type": "code",
   "execution_count": null,
   "metadata": {},
   "outputs": [
    {
     "name": "stdout",
     "output_type": "stream",
     "text": [
      "Precision: 0.16499587510312197, Recall: 0.16331628309278567, F1-Score: 0.16410179937010114\n",
      "Precision: 0.1768469985934501, Recall: 0.1630385087871867, F1-Score: 0.16961235292824087\n",
      "Precision: 0.17647661279218976, Recall: 0.1619274285393472, F1-Score: 0.16883936743777372\n",
      "Precision: 0.17647659427475146, Recall: 0.16160997275696948, F1-Score: 0.16866653127775008\n"
     ]
    }
   ],
   "source": [
    "prec, rec, f1 = text_metrics(key_phrases_tor, trues)\n",
    "print(f\"Precision: {prec}, Recall: {rec}, F1-Score: {f1}\")\n",
    "\n",
    "key_phrases_tor1 = filter1(key_phrases_tor)\n",
    "prec, rec, f1 = text_metrics(key_phrases_tor1, trues)\n",
    "print(f\"Precision: {prec}, Recall: {rec}, F1-Score: {f1}\")\n",
    "\n",
    "key_phrases_tor1 = filter2(key_phrases_tor1, descrete_ngrams, word2score)\n",
    "prec, rec, f1 = text_metrics(key_phrases_tor1, trues)\n",
    "print(f\"Precision: {prec}, Recall: {rec}, F1-Score: {f1}\")\n",
    "\n",
    "key_phrases_tor1 = filter3(key_phrases_tor1, word2score)\n",
    "prec, rec, f1 = text_metrics(key_phrases_tor1, trues)\n",
    "print(f\"Precision: {prec}, Recall: {rec}, F1-Score: {f1}\")"
   ]
  },
  {
   "cell_type": "markdown",
   "metadata": {},
   "source": [
    "### MultiPartiteRank"
   ]
  },
  {
   "cell_type": "code",
   "execution_count": 922,
   "metadata": {},
   "outputs": [
    {
     "ename": "KeyboardInterrupt",
     "evalue": "",
     "output_type": "error",
     "traceback": [
      "\u001b[1;31m---------------------------------------------------------------------------\u001b[0m",
      "\u001b[1;31mKeyboardInterrupt\u001b[0m                         Traceback (most recent call last)",
      "Cell \u001b[1;32mIn[922], line 1\u001b[0m\n\u001b[1;32m----> 1\u001b[0m key_phrases_mr \u001b[39m=\u001b[39m multiPartiteRank(df\u001b[39m.\u001b[39;49mnormalized, \u001b[39m5\u001b[39;49m)\n",
      "Cell \u001b[1;32mIn[357], line 8\u001b[0m, in \u001b[0;36mmultiPartiteRank\u001b[1;34m(texts, n)\u001b[0m\n\u001b[0;32m      6\u001b[0m \u001b[39mfor\u001b[39;00m text \u001b[39min\u001b[39;00m texts:\n\u001b[0;32m      7\u001b[0m     extractor \u001b[39m=\u001b[39m MultipartiteRank(valid_pos_tags\u001b[39m=\u001b[39mvalid_pos_tags)\n\u001b[1;32m----> 8\u001b[0m     extractor\u001b[39m.\u001b[39;49mload_text(text, word_normalization_method\u001b[39m=\u001b[39;49m\u001b[39mNone\u001b[39;49;00m)\n\u001b[0;32m      9\u001b[0m     extractor\u001b[39m.\u001b[39mselect_candidates()\n\u001b[0;32m     11\u001b[0m     \u001b[39m# extractor.weight_candidates()\u001b[39;00m\n",
      "File \u001b[1;32mc:\\Users\\asus\\AppData\\Local\\Programs\\Python\\Python310\\lib\\site-packages\\perke\\base\\extractor.py:84\u001b[0m, in \u001b[0;36mExtractor.load_text\u001b[1;34m(self, input, word_normalization_method, universal_pos_tags)\u001b[0m\n\u001b[0;32m     66\u001b[0m \u001b[39m\"\"\"\u001b[39;00m\n\u001b[0;32m     67\u001b[0m \u001b[39mLoads the text of a document or string.\u001b[39;00m\n\u001b[0;32m     68\u001b[0m \n\u001b[1;32m   (...)\u001b[0m\n\u001b[0;32m     81\u001b[0m \u001b[39m    defaults to `True`.\u001b[39;00m\n\u001b[0;32m     82\u001b[0m \u001b[39m\"\"\"\u001b[39;00m\n\u001b[0;32m     83\u001b[0m \u001b[39m# Initialize reader\u001b[39;00m\n\u001b[1;32m---> 84\u001b[0m reader \u001b[39m=\u001b[39m RawTextReader(\n\u001b[0;32m     85\u001b[0m     \u001b[39minput\u001b[39;49m, word_normalization_method, universal_pos_tags\n\u001b[0;32m     86\u001b[0m )\n\u001b[0;32m     88\u001b[0m \u001b[39m# Load sentences\u001b[39;00m\n\u001b[0;32m     89\u001b[0m \u001b[39mself\u001b[39m\u001b[39m.\u001b[39msentences \u001b[39m=\u001b[39m reader\u001b[39m.\u001b[39mread()\n",
      "File \u001b[1;32mc:\\Users\\asus\\AppData\\Local\\Programs\\Python\\Python310\\lib\\site-packages\\perke\\base\\readers.py:96\u001b[0m, in \u001b[0;36mRawTextReader.__init__\u001b[1;34m(self, input, word_normalization_method, universal_pos_tags)\u001b[0m\n\u001b[0;32m     74\u001b[0m \u001b[39mdef\u001b[39;00m \u001b[39m__init__\u001b[39m(\n\u001b[0;32m     75\u001b[0m     \u001b[39mself\u001b[39m,\n\u001b[0;32m     76\u001b[0m     \u001b[39minput\u001b[39m: \u001b[39mstr\u001b[39m,\n\u001b[0;32m     77\u001b[0m     word_normalization_method: WordNormalizationMethod,\n\u001b[0;32m     78\u001b[0m     universal_pos_tags,\n\u001b[0;32m     79\u001b[0m ) \u001b[39m-\u001b[39m\u001b[39m>\u001b[39m \u001b[39mNone\u001b[39;00m:\n\u001b[0;32m     80\u001b[0m     \u001b[39m\"\"\"\u001b[39;00m\n\u001b[0;32m     81\u001b[0m \u001b[39m    Initializes the reader.\u001b[39;00m\n\u001b[0;32m     82\u001b[0m \n\u001b[1;32m   (...)\u001b[0m\n\u001b[0;32m     94\u001b[0m \u001b[39m        Whether to use universal part of speech tags or not\u001b[39;00m\n\u001b[0;32m     95\u001b[0m \u001b[39m    \"\"\"\u001b[39;00m\n\u001b[1;32m---> 96\u001b[0m     \u001b[39msuper\u001b[39;49m()\u001b[39m.\u001b[39;49m\u001b[39m__init__\u001b[39;49m(word_normalization_method, universal_pos_tags)\n\u001b[0;32m     98\u001b[0m     \u001b[39m# If input is a filepath\u001b[39;00m\n\u001b[0;32m     99\u001b[0m     \u001b[39mif\u001b[39;00m \u001b[39misinstance\u001b[39m(\u001b[39minput\u001b[39m, Path):\n",
      "File \u001b[1;32mc:\\Users\\asus\\AppData\\Local\\Programs\\Python\\Python310\\lib\\site-packages\\perke\\base\\readers.py:53\u001b[0m, in \u001b[0;36mReader.__init__\u001b[1;34m(self, word_normalization_method, universal_pos_tags)\u001b[0m\n\u001b[0;32m     37\u001b[0m \u001b[39m\"\"\"\u001b[39;00m\n\u001b[0;32m     38\u001b[0m \u001b[39mInitializes the reader.\u001b[39;00m\n\u001b[0;32m     39\u001b[0m \n\u001b[1;32m   (...)\u001b[0m\n\u001b[0;32m     48\u001b[0m \u001b[39m    Whether to use universal part of speech tags or not\u001b[39;00m\n\u001b[0;32m     49\u001b[0m \u001b[39m\"\"\"\u001b[39;00m\n\u001b[0;32m     50\u001b[0m \u001b[39mself\u001b[39m\u001b[39m.\u001b[39mword_normalization_method: WordNormalizationMethod \u001b[39m=\u001b[39m (\n\u001b[0;32m     51\u001b[0m     word_normalization_method\n\u001b[0;32m     52\u001b[0m )\n\u001b[1;32m---> 53\u001b[0m \u001b[39mself\u001b[39m\u001b[39m.\u001b[39mnormalizer: hazm\u001b[39m.\u001b[39mNormalizer \u001b[39m=\u001b[39m hazm\u001b[39m.\u001b[39;49mNormalizer()\n\u001b[0;32m     54\u001b[0m \u001b[39mself\u001b[39m\u001b[39m.\u001b[39mstemmer: hazm\u001b[39m.\u001b[39mStemmer \u001b[39m=\u001b[39m hazm\u001b[39m.\u001b[39mStemmer()\n\u001b[0;32m     55\u001b[0m \u001b[39mself\u001b[39m\u001b[39m.\u001b[39mlemmatizer: hazm\u001b[39m.\u001b[39mLemmatizer \u001b[39m=\u001b[39m hazm\u001b[39m.\u001b[39mLemmatizer()\n",
      "File \u001b[1;32m~\\AppData\\Roaming\\Python\\Python310\\site-packages\\hazm\\normalizer.py:170\u001b[0m, in \u001b[0;36mNormalizer.__init__\u001b[1;34m(self, correct_spacing, remove_diacritics, remove_specials_chars, decrease_repeated_chars, persian_style, persian_numbers, unicodes_replacement, seperate_mi)\u001b[0m\n\u001b[0;32m    161\u001b[0m     \u001b[39mself\u001b[39m\u001b[39m.\u001b[39mspecials_chars_patterns \u001b[39m=\u001b[39m [\n\u001b[0;32m    162\u001b[0m         \u001b[39m# Remove almoast all arabic unicode superscript and subscript characters in the ranges of 00600-06FF, 08A0-08FF, FB50-FDFF, and FE70-FEFF\u001b[39;00m\n\u001b[0;32m    163\u001b[0m         (\n\u001b[1;32m   (...)\u001b[0m\n\u001b[0;32m    166\u001b[0m         ),\n\u001b[0;32m    167\u001b[0m     ]\n\u001b[0;32m    169\u001b[0m \u001b[39mif\u001b[39;00m \u001b[39mself\u001b[39m\u001b[39m.\u001b[39m_seperate_mi:\n\u001b[1;32m--> 170\u001b[0m     \u001b[39mself\u001b[39m\u001b[39m.\u001b[39mverbs \u001b[39m=\u001b[39m Lemmatizer(joined_verb_parts\u001b[39m=\u001b[39;49m\u001b[39mFalse\u001b[39;49;00m)\u001b[39m.\u001b[39mverbs\n\u001b[0;32m    171\u001b[0m     \u001b[39mself\u001b[39m\u001b[39m.\u001b[39mjoint_mi_patterns \u001b[39m=\u001b[39m \u001b[39mr\u001b[39m\u001b[39m\"\u001b[39m\u001b[39m\\\u001b[39m\u001b[39mbن?می[آابپتثجچحخدذرزژسشصضطظعغفقکگلمنوهی]+\u001b[39m\u001b[39m\"\u001b[39m\n\u001b[0;32m    173\u001b[0m \u001b[39mif\u001b[39;00m \u001b[39mself\u001b[39m\u001b[39m.\u001b[39m_unicodes_replacement:\n",
      "File \u001b[1;32m~\\AppData\\Roaming\\Python\\Python310\\site-packages\\hazm\\lemmatizer.py:60\u001b[0m, in \u001b[0;36mLemmatizer.__init__\u001b[1;34m(self, words_file, verbs_file, joined_verb_parts)\u001b[0m\n\u001b[0;32m     58\u001b[0m \u001b[39mself\u001b[39m\u001b[39m.\u001b[39mverbs[\u001b[39m\"\u001b[39m\u001b[39mاست\u001b[39m\u001b[39m\"\u001b[39m] \u001b[39m=\u001b[39m \u001b[39m\"\u001b[39m\u001b[39m#است\u001b[39m\u001b[39m\"\u001b[39m\n\u001b[0;32m     59\u001b[0m \u001b[39mfor\u001b[39;00m verb \u001b[39min\u001b[39;00m tokenizer\u001b[39m.\u001b[39mverbs:\n\u001b[1;32m---> 60\u001b[0m     \u001b[39mfor\u001b[39;00m tense \u001b[39min\u001b[39;00m \u001b[39mself\u001b[39;49m\u001b[39m.\u001b[39;49mconjugation\u001b[39m.\u001b[39;49mget_all(verb):\n\u001b[0;32m     61\u001b[0m         \u001b[39mself\u001b[39m\u001b[39m.\u001b[39mverbs[tense] \u001b[39m=\u001b[39m verb\n\u001b[0;32m     62\u001b[0m \u001b[39mif\u001b[39;00m joined_verb_parts:\n",
      "File \u001b[1;32m~\\AppData\\Roaming\\Python\\Python310\\site-packages\\hazm\\lemmatizer.py:2129\u001b[0m, in \u001b[0;36mConjugation.get_all\u001b[1;34m(self, verb)\u001b[0m\n\u001b[0;32m   2126\u001b[0m result\u001b[39m.\u001b[39mappend(\u001b[39mself\u001b[39m\u001b[39m.\u001b[39mnegative_past_precedent(ri))\n\u001b[0;32m   2128\u001b[0m \u001b[39m# گذشتهٔ پیشین مجهول\u001b[39;00m\n\u001b[1;32m-> 2129\u001b[0m result\u001b[39m.\u001b[39mappend(\u001b[39mself\u001b[39;49m\u001b[39m.\u001b[39;49mpassive_past_precedent(ri))\n\u001b[0;32m   2131\u001b[0m \u001b[39m# گذشتهٔ پیشین مجهول منفی\u001b[39;00m\n\u001b[0;32m   2132\u001b[0m result\u001b[39m.\u001b[39mappend(\u001b[39mself\u001b[39m\u001b[39m.\u001b[39mnegative_passive_past_precedent(ri))\n",
      "File \u001b[1;32m~\\AppData\\Roaming\\Python\\Python310\\site-packages\\hazm\\lemmatizer.py:742\u001b[0m, in \u001b[0;36mConjugation.passive_past_precedent\u001b[1;34m(self, ri)\u001b[0m\n\u001b[0;32m    728\u001b[0m \u001b[39mdef\u001b[39;00m \u001b[39mpassive_past_precedent\u001b[39m(\u001b[39mself\u001b[39m: \u001b[39m\"\u001b[39m\u001b[39mConjugation\u001b[39m\u001b[39m\"\u001b[39m, ri: \u001b[39mstr\u001b[39m) \u001b[39m-\u001b[39m\u001b[39m>\u001b[39m List[\u001b[39mstr\u001b[39m]:\n\u001b[0;32m    729\u001b[0m     \u001b[39m\"\"\"فعل را در زمان گذشتهٔ پیشین در حالت مجهول صرف می‌کند.\u001b[39;00m\n\u001b[0;32m    730\u001b[0m \n\u001b[0;32m    731\u001b[0m \u001b[39m    Examples:\u001b[39;00m\n\u001b[1;32m   (...)\u001b[0m\n\u001b[0;32m    740\u001b[0m \u001b[39m         صورت‌های صرفی فعل در زمان گذشتهٔ پیشین در حالت مجهول.\u001b[39;00m\n\u001b[0;32m    741\u001b[0m \u001b[39m    \"\"\"\u001b[39;00m\n\u001b[1;32m--> 742\u001b[0m     \u001b[39mreturn\u001b[39;00m [ri \u001b[39m+\u001b[39m \u001b[39m\"\u001b[39m\u001b[39mه \u001b[39m\u001b[39m\"\u001b[39m \u001b[39m+\u001b[39m x \u001b[39mfor\u001b[39;00m x \u001b[39min\u001b[39;00m \u001b[39mself\u001b[39;49m\u001b[39m.\u001b[39;49mpast_precedent(\u001b[39m\"\u001b[39;49m\u001b[39mشد\u001b[39;49m\u001b[39m\"\u001b[39;49m)]\n",
      "File \u001b[1;32m~\\AppData\\Roaming\\Python\\Python310\\site-packages\\hazm\\lemmatizer.py:710\u001b[0m, in \u001b[0;36mConjugation.past_precedent\u001b[1;34m(self, ri)\u001b[0m\n\u001b[0;32m    696\u001b[0m \u001b[39mdef\u001b[39;00m \u001b[39mpast_precedent\u001b[39m(\u001b[39mself\u001b[39m: \u001b[39m\"\u001b[39m\u001b[39mConjugation\u001b[39m\u001b[39m\"\u001b[39m, ri: \u001b[39mstr\u001b[39m) \u001b[39m-\u001b[39m\u001b[39m>\u001b[39m List[\u001b[39mstr\u001b[39m]:\n\u001b[0;32m    697\u001b[0m     \u001b[39m\"\"\"فعل را در زمان گذشتهٔ پیشین صرف می‌کند.\u001b[39;00m\n\u001b[0;32m    698\u001b[0m \n\u001b[0;32m    699\u001b[0m \u001b[39m    Examples:\u001b[39;00m\n\u001b[1;32m   (...)\u001b[0m\n\u001b[0;32m    708\u001b[0m \u001b[39m         صورت‌های صرفی فعل در زمان گذشتهٔ پیشین.\u001b[39;00m\n\u001b[0;32m    709\u001b[0m \u001b[39m    \"\"\"\u001b[39;00m\n\u001b[1;32m--> 710\u001b[0m     \u001b[39mreturn\u001b[39;00m [ri \u001b[39m+\u001b[39m \u001b[39m\"\u001b[39m\u001b[39mه \u001b[39m\u001b[39m\"\u001b[39m \u001b[39m+\u001b[39m x \u001b[39mfor\u001b[39;00m x \u001b[39min\u001b[39;00m \u001b[39mself\u001b[39m\u001b[39m.\u001b[39mperfective_past(\u001b[39m\"\u001b[39m\u001b[39mبود\u001b[39m\u001b[39m\"\u001b[39m)]\n",
      "File \u001b[1;32m~\\AppData\\Roaming\\Python\\Python310\\site-packages\\hazm\\lemmatizer.py:710\u001b[0m, in \u001b[0;36m<listcomp>\u001b[1;34m(.0)\u001b[0m\n\u001b[0;32m    696\u001b[0m \u001b[39mdef\u001b[39;00m \u001b[39mpast_precedent\u001b[39m(\u001b[39mself\u001b[39m: \u001b[39m\"\u001b[39m\u001b[39mConjugation\u001b[39m\u001b[39m\"\u001b[39m, ri: \u001b[39mstr\u001b[39m) \u001b[39m-\u001b[39m\u001b[39m>\u001b[39m List[\u001b[39mstr\u001b[39m]:\n\u001b[0;32m    697\u001b[0m     \u001b[39m\"\"\"فعل را در زمان گذشتهٔ پیشین صرف می‌کند.\u001b[39;00m\n\u001b[0;32m    698\u001b[0m \n\u001b[0;32m    699\u001b[0m \u001b[39m    Examples:\u001b[39;00m\n\u001b[1;32m   (...)\u001b[0m\n\u001b[0;32m    708\u001b[0m \u001b[39m         صورت‌های صرفی فعل در زمان گذشتهٔ پیشین.\u001b[39;00m\n\u001b[0;32m    709\u001b[0m \u001b[39m    \"\"\"\u001b[39;00m\n\u001b[1;32m--> 710\u001b[0m     \u001b[39mreturn\u001b[39;00m [ri \u001b[39m+\u001b[39m \u001b[39m\"\u001b[39m\u001b[39mه \u001b[39m\u001b[39m\"\u001b[39m \u001b[39m+\u001b[39m x \u001b[39mfor\u001b[39;00m x \u001b[39min\u001b[39;00m \u001b[39mself\u001b[39m\u001b[39m.\u001b[39mperfective_past(\u001b[39m\"\u001b[39m\u001b[39mبود\u001b[39m\u001b[39m\"\u001b[39m)]\n",
      "\u001b[1;31mKeyboardInterrupt\u001b[0m: "
     ]
    }
   ],
   "source": [
    "key_phrases_mr = multiPartiteRank(df.normalized, 5)"
   ]
  },
  {
   "cell_type": "code",
   "execution_count": null,
   "metadata": {},
   "outputs": [
    {
     "name": "stdout",
     "output_type": "stream",
     "text": [
      "Precision: 0.15466357339519873, Recall: 0.19020715680822795, F1-Score: 0.17055428754754812\n",
      "Precision: 0.16825550496226388, Recall: 0.18948494694689566, F1-Score: 0.17819050507677744\n",
      "Precision: 0.16869992940738607, Recall: 0.18929977256370376, F1-Score: 0.1783573574205836\n",
      "Precision: 0.17292193571178135, Recall: 0.18898231678132604, F1-Score: 0.18054587927110705\n"
     ]
    }
   ],
   "source": [
    "prec, rec, f1 = text_metrics(key_phrases_mr, trues)\n",
    "print(f\"Precision: {prec}, Recall: {rec}, F1-Score: {f1}\")\n",
    "\n",
    "key_phrases_mr1 = filter1(key_phrases_mr)\n",
    "prec, rec, f1 = text_metrics(key_phrases_mr1, trues)\n",
    "print(f\"Precision: {prec}, Recall: {rec}, F1-Score: {f1}\")\n",
    "\n",
    "key_phrases_mr1 = filter2(key_phrases_mr1, descrete_ngrams, word2score)\n",
    "prec, rec, f1 = text_metrics(key_phrases_mr1, trues)\n",
    "print(f\"Precision: {prec}, Recall: {rec}, F1-Score: {f1}\")\n",
    "\n",
    "key_phrases_mr1 = filter3(key_phrases_mr1, word2score)\n",
    "prec, rec, f1 = text_metrics(key_phrases_mr1, trues)\n",
    "print(f\"Precision: {prec}, Recall: {rec}, F1-Score: {f1}\")"
   ]
  },
  {
   "cell_type": "markdown",
   "metadata": {},
   "source": [
    "### yake"
   ]
  },
  {
   "cell_type": "code",
   "execution_count": null,
   "metadata": {},
   "outputs": [],
   "source": [
    "key_phrases_ya = yake(df.normalized)"
   ]
  },
  {
   "cell_type": "code",
   "execution_count": null,
   "metadata": {},
   "outputs": [
    {
     "name": "stdout",
     "output_type": "stream",
     "text": [
      "Precision: 0.08190359185344974, Recall: 0.1416989416763587, F1-Score: 0.10375968570404953\n",
      "Precision: 0.08827371260105382, Recall: 0.13948737012896975, F1-Score: 0.10807521736241706\n",
      "Precision: 0.08827371260105382, Recall: 0.13948737012896975, F1-Score: 0.10807521736241706\n"
     ]
    }
   ],
   "source": [
    "prec, rec, f1 = text_metrics(key_phrases_ya, trues)\n",
    "print(f\"Precision: {prec}, Recall: {rec}, F1-Score: {f1}\")\n",
    "\n",
    "# key_phrases_ya1 = filter1(key_phrases_ya)\n",
    "# prec, rec, f1 = text_metrics(key_phrases_ya1, trues)\n",
    "# print(f\"Precision: {prec}, Recall: {rec}, F1-Score: {f1}\")\n",
    "\n",
    "key_phrases_ya1 = filter2(key_phrases_ya1, descrete_ngrams, word2score)\n",
    "prec, rec, f1 = text_metrics(key_phrases_ya1, trues)\n",
    "print(f\"Precision: {prec}, Recall: {rec}, F1-Score: {f1}\")\n",
    "\n",
    "key_phrases_ya1 = filter3(key_phrases_ya1, word2score)\n",
    "prec, rec, f1 = text_metrics(key_phrases_ya1, trues)\n",
    "print(f\"Precision: {prec}, Recall: {rec}, F1-Score: {f1}\")"
   ]
  },
  {
   "cell_type": "markdown",
   "metadata": {},
   "source": [
    "## Exploring Data"
   ]
  },
  {
   "cell_type": "code",
   "execution_count": null,
   "metadata": {},
   "outputs": [],
   "source": [
    "kw_counter = Counter()\n",
    "\n",
    "for kws in df.keywords:\n",
    "    for kw in kws:\n",
    "        kw_count = len(kw.split())\n",
    "        kw_counter[kw_count] += 1"
   ]
  },
  {
   "cell_type": "code",
   "execution_count": null,
   "metadata": {},
   "outputs": [
    {
     "name": "stdout",
     "output_type": "stream",
     "text": [
      "(2, 1164)\n",
      "(3, 271)\n",
      "(1, 404)\n",
      "(5, 13)\n",
      "(4, 49)\n",
      "(7, 2)\n",
      "(9, 2)\n",
      "(6, 1)\n"
     ]
    }
   ],
   "source": [
    "for i in kw_counter.items():\n",
    "    print(i)\n",
    "    # total 1906 keyphrases\n",
    "    # 3% keyphrases contain 4 and more words\n",
    "    # 1839 keyphrases contain 1, 2, 3 words"
   ]
  }
 ],
 "metadata": {
  "kernelspec": {
   "display_name": "Python 3",
   "language": "python",
   "name": "python3"
  },
  "language_info": {
   "codemirror_mode": {
    "name": "ipython",
    "version": 3
   },
   "file_extension": ".py",
   "mimetype": "text/x-python",
   "name": "python",
   "nbconvert_exporter": "python",
   "pygments_lexer": "ipython3",
   "version": "3.10.7"
  },
  "orig_nbformat": 4
 },
 "nbformat": 4,
 "nbformat_minor": 2
}
