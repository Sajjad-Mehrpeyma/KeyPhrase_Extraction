{
 "cells": [
  {
   "cell_type": "markdown",
   "metadata": {},
   "source": [
    "## Importing Libraries"
   ]
  },
  {
   "cell_type": "code",
   "execution_count": 14,
   "metadata": {},
   "outputs": [],
   "source": [
    "import pandas as pd\n",
    "import numpy as np\n",
    "import matplotlib.pyplot as plt\n",
    "from sklearn.feature_extraction.text import TfidfVectorizer\n",
    "from sklearn.feature_extraction.text import CountVectorizer\n",
    "from hazm import *\n",
    "import nltk\n",
    "from perke.unsupervised.graph_based import *\n",
    "from yake import *\n",
    "from sklearn.metrics.pairwise import cosine_similarity"
   ]
  },
  {
   "cell_type": "markdown",
   "metadata": {},
   "source": [
    "## Loading Data"
   ]
  },
  {
   "cell_type": "code",
   "execution_count": 13,
   "metadata": {},
   "outputs": [],
   "source": [
    "df = pd.read_json('Text.txt', lines=True).drop('id', axis=1)"
   ]
  },
  {
   "cell_type": "code",
   "execution_count": 15,
   "metadata": {},
   "outputs": [
    {
     "data": {
      "text/html": [
       "<div>\n",
       "<style scoped>\n",
       "    .dataframe tbody tr th:only-of-type {\n",
       "        vertical-align: middle;\n",
       "    }\n",
       "\n",
       "    .dataframe tbody tr th {\n",
       "        vertical-align: top;\n",
       "    }\n",
       "\n",
       "    .dataframe thead th {\n",
       "        text-align: right;\n",
       "    }\n",
       "</style>\n",
       "<table border=\"1\" class=\"dataframe\">\n",
       "  <thead>\n",
       "    <tr style=\"text-align: right;\">\n",
       "      <th></th>\n",
       "      <th>body</th>\n",
       "      <th>keywords</th>\n",
       "    </tr>\n",
       "  </thead>\n",
       "  <tbody>\n",
       "    <tr>\n",
       "      <th>0</th>\n",
       "      <td>این نوشتار بر آن است تا با بررسی فقه الحدیثی ک...</td>\n",
       "      <td>[فقه الحدیث, معانی الاخبار, روش فقه الحدیثی, چ...</td>\n",
       "    </tr>\n",
       "    <tr>\n",
       "      <th>1</th>\n",
       "      <td>چکیده:           این پژوهش براساس چارچوب نظری ...</td>\n",
       "      <td>[سید محمد خاتمی, آدریان لفت ویچ, پیتر ایوانز, ...</td>\n",
       "    </tr>\n",
       "    <tr>\n",
       "      <th>2</th>\n",
       "      <td>فهم معانی عمیق و تدبر در آیات قرآن کریم برای ب...</td>\n",
       "      <td>[جایگاه آرائ تفسیری, محمد یزدی, ترجمه قرآن]</td>\n",
       "    </tr>\n",
       "    <tr>\n",
       "      <th>3</th>\n",
       "      <td>آزادی موهبتی است الهی که خدای متعال به انسان ع...</td>\n",
       "      <td>[محدودیت بازدارنده, آزادی بیان, بدعت, دین, ارت...</td>\n",
       "    </tr>\n",
       "    <tr>\n",
       "      <th>4</th>\n",
       "      <td>یکی از نکاتی که توجه پژوهشگران اندیشه‌های سیاس...</td>\n",
       "      <td>[آزادی, محمد تقی مصباح یزدی, مرتضی مطهری, دموک...</td>\n",
       "    </tr>\n",
       "  </tbody>\n",
       "</table>\n",
       "</div>"
      ],
      "text/plain": [
       "                                                body  \\\n",
       "0  این نوشتار بر آن است تا با بررسی فقه الحدیثی ک...   \n",
       "1  چکیده:           این پژوهش براساس چارچوب نظری ...   \n",
       "2  فهم معانی عمیق و تدبر در آیات قرآن کریم برای ب...   \n",
       "3  آزادی موهبتی است الهی که خدای متعال به انسان ع...   \n",
       "4  یکی از نکاتی که توجه پژوهشگران اندیشه‌های سیاس...   \n",
       "\n",
       "                                            keywords  \n",
       "0  [فقه الحدیث, معانی الاخبار, روش فقه الحدیثی, چ...  \n",
       "1  [سید محمد خاتمی, آدریان لفت ویچ, پیتر ایوانز, ...  \n",
       "2        [جایگاه آرائ تفسیری, محمد یزدی, ترجمه قرآن]  \n",
       "3  [محدودیت بازدارنده, آزادی بیان, بدعت, دین, ارت...  \n",
       "4  [آزادی, محمد تقی مصباح یزدی, مرتضی مطهری, دموک...  "
      ]
     },
     "execution_count": 15,
     "metadata": {},
     "output_type": "execute_result"
    }
   ],
   "source": [
    "df.head()"
   ]
  },
  {
   "cell_type": "markdown",
   "metadata": {},
   "source": [
    "## PreProcessing"
   ]
  },
  {
   "cell_type": "markdown",
   "metadata": {},
   "source": [
    "#### replace half space with complete space"
   ]
  },
  {
   "cell_type": "code",
   "execution_count": 16,
   "metadata": {},
   "outputs": [],
   "source": [
    "for row, kps in enumerate(df.keywords):\n",
    "    for index, kp in enumerate(kps):\n",
    "        kp = kp.replace(\"\\u200c\", \" \")\n",
    "        df.keywords.iloc[row][index] = kp"
   ]
  },
  {
   "cell_type": "markdown",
   "metadata": {},
   "source": [
    "#### remove duplicates in keywords"
   ]
  },
  {
   "cell_type": "code",
   "execution_count": 17,
   "metadata": {},
   "outputs": [],
   "source": [
    "not_duplicate_keyphrases = list(df.keywords.copy())\n",
    "for index, kps in enumerate(df.keywords):\n",
    "    for kp in kps:\n",
    "        if kps.count(kp) > 1:\n",
    "            not_duplicate_keyphrases[index].remove(kp)\n",
    "df.keywords = not_duplicate_keyphrases"
   ]
  },
  {
   "cell_type": "code",
   "execution_count": 18,
   "metadata": {},
   "outputs": [],
   "source": [
    "df['other_keywords'] = [[] for i in range(len(df))]\n",
    "df['true_keywords'] = [[] for i in range(len(df))]\n",
    "\n",
    "kw_vect = CountVectorizer(ngram_range=(1, 10))\n",
    "\n",
    "for index, kw in enumerate(df.keywords):\n",
    "    sentence = df.body.iloc[index]\n",
    "    sentence_ngrams = kw_vect.fit([sentence])\n",
    "    sentence_features = kw_vect.get_feature_names_out()\n",
    "    for k in kw:\n",
    "        if k in sentence_features:\n",
    "            df['true_keywords'].iloc[index].append(k)\n",
    "        else:\n",
    "            df['other_keywords'].iloc[index].append(k)\n",
    "\n",
    "df['keywords'] = df['true_keywords']\n",
    "df.drop('true_keywords', axis=1, inplace=True)"
   ]
  },
  {
   "cell_type": "code",
   "execution_count": 19,
   "metadata": {},
   "outputs": [],
   "source": [
    "key_words_OOT = []\n",
    "key_words_IOT = []\n",
    "\n",
    "for index, keyword in enumerate(df.keywords):\n",
    "    txt = df.iloc[index]['body']\n",
    "    key_words_OOT_tmp = []\n",
    "    key_words_IOT_tmp = []\n",
    "\n",
    "    for kw in keyword:\n",
    "        if kw in txt:\n",
    "            key_words_IOT_tmp.append(kw)\n",
    "\n",
    "        else:\n",
    "            key_words_OOT_tmp.append(kw)\n",
    "\n",
    "    key_words_OOT_tmp.append(key_words_OOT_tmp)\n",
    "    key_words_IOT.append(key_words_IOT_tmp)"
   ]
  },
  {
   "cell_type": "code",
   "execution_count": 20,
   "metadata": {},
   "outputs": [],
   "source": [
    "tokenizer = WordTokenizer(replace_links=True,\n",
    "                          replace_emails=True, replace_numbers=True, replace_hashtags=True, )"
   ]
  },
  {
   "cell_type": "code",
   "execution_count": 21,
   "metadata": {},
   "outputs": [],
   "source": [
    "from collections import Counter\n",
    "\n",
    "df['normalized'] = None\n",
    "df['tokenized'] = None\n",
    "df['sticked_tokenized'] = None\n",
    "\n",
    "normalizer = Normalizer()\n",
    "inf_normalizer = InformalNormalizer(seperation_flag=True)\n",
    "\n",
    "for index in range(len(df)):\n",
    "    text = df.iloc[index]['body']\n",
    "    text = text.replace(\"\\u200c\", \" \")\n",
    "    text = normalizer.normalize(text)\n",
    "\n",
    "    df['normalized'][index] = text\n",
    "\n",
    "    text = tokenizer.tokenize(text)\n",
    "    df['tokenized'][index] = text\n",
    "    df['sticked_tokenized'][index] = \" \".join(text)"
   ]
  },
  {
   "cell_type": "markdown",
   "metadata": {},
   "source": [
    "### Metrics"
   ]
  },
  {
   "cell_type": "code",
   "execution_count": 51,
   "metadata": {},
   "outputs": [],
   "source": [
    "def f1_score(precision, recall):\n",
    "    return 2*precision*recall/(precision + recall + 0.000001)"
   ]
  },
  {
   "cell_type": "code",
   "execution_count": 52,
   "metadata": {},
   "outputs": [],
   "source": [
    "def text_metrics(preds, trues):\n",
    "    tp = 0\n",
    "    fp = 0\n",
    "    fn = 0\n",
    "    \n",
    "    for index, pred in enumerate(preds):\n",
    "        true = trues[index]\n",
    "\n",
    "        for phrase in pred:\n",
    "            if phrase in true:\n",
    "                tp += 1\n",
    "            else:\n",
    "                fp += 1\n",
    "                \n",
    "        for phrase in true:\n",
    "            if phrase not in pred:\n",
    "                fn += 1\n",
    "\n",
    "    prec = tp / (tp+fp+0.000001)\n",
    "    rec = tp / (tp+fn+0.000001)\n",
    "    f1 = f1_score(prec, rec)\n",
    "\n",
    "    return prec, rec, f1"
   ]
  },
  {
   "cell_type": "markdown",
   "metadata": {},
   "source": [
    "### Filters"
   ]
  },
  {
   "cell_type": "markdown",
   "metadata": {},
   "source": [
    "#### Filter 1: remove KeyPhrases Longer than 3 Words"
   ]
  },
  {
   "cell_type": "code",
   "execution_count": 24,
   "metadata": {},
   "outputs": [],
   "source": [
    "def filter1(preds):\n",
    "    final_preds = []\n",
    "    for index, pred in enumerate(preds):\n",
    "\n",
    "        final_preds.append(pred.copy())\n",
    "        for kp in pred:\n",
    "            length = len(kp.split())\n",
    "            if length > 3:\n",
    "                final_preds[index].remove(kp)\n",
    "\n",
    "    return final_preds"
   ]
  },
  {
   "cell_type": "markdown",
   "metadata": {},
   "source": [
    "#### Filter 2: Mixing One Words"
   ]
  },
  {
   "cell_type": "code",
   "execution_count": 25,
   "metadata": {},
   "outputs": [],
   "source": [
    "def return_one_words(pred):\n",
    "    ones = []\n",
    "    for kp in pred:\n",
    "        if len(kp.split()) == 1:\n",
    "            ones.append(kp)\n",
    "    return ones\n",
    "\n",
    "def mix_ones(ones):\n",
    "    output = {}\n",
    "\n",
    "    if len(ones) > 1:\n",
    "        for index, word1 in enumerate(ones):\n",
    "            for word2 in ones:\n",
    "                if word1 != word2:\n",
    "                    output[word1 + \" \" + word2] = [word1, word2]\n",
    "\n",
    "    else:\n",
    "        output = {None:None}\n",
    "    return output"
   ]
  },
  {
   "cell_type": "code",
   "execution_count": 26,
   "metadata": {},
   "outputs": [],
   "source": [
    "def filter2(preds, text_ngrams, word2score, threshold=0.45):\n",
    "    output_preds = []\n",
    "    for index, pred in enumerate(preds):\n",
    "        output_preds.append(pred.copy())\n",
    "        ones = return_one_words(pred)\n",
    "        mixed = mix_ones(ones)\n",
    "        \n",
    "        for key in mixed.keys():\n",
    "\n",
    "            if key in text_ngrams[index]:\n",
    "                word1 = mixed[key][0]\n",
    "                word2 = mixed[key][1]\n",
    "                try:\n",
    "                    word1_score = word2score[word1]\n",
    "                    word2_score = word2score[word2]\n",
    "                    candidate_score = word2score[key]\n",
    "                    \n",
    "                    mean_score = threshold * (word1_score + word2_score)\n",
    "                    if candidate_score >= mean_score:\n",
    "                        # print(key)\n",
    "                        try:\n",
    "                            output_preds[index].remove(word1)\n",
    "                            output_preds[index].remove(word2)\n",
    "                            pass\n",
    "                        except:\n",
    "                            pass\n",
    "\n",
    "                        if key not in output_preds[index]:\n",
    "                            output_preds[index].append(key)\n",
    "\n",
    "                except:\n",
    "                    pass\n",
    "\n",
    "    return output_preds"
   ]
  },
  {
   "cell_type": "markdown",
   "metadata": {},
   "source": [
    "#### Filter 3: KeyPhrase Subsets Remove"
   ]
  },
  {
   "cell_type": "code",
   "execution_count": 54,
   "metadata": {},
   "outputs": [],
   "source": [
    "def filter3(preds, word2score):\n",
    "    output_preds = []\n",
    "    for index, pred in enumerate(preds):\n",
    "        output_preds.append(pred.copy())\n",
    "        for small_kp in pred:\n",
    "            small_words = small_kp.split()\n",
    "            for big_kp in pred:\n",
    "                big_words = big_kp.split()\n",
    "            \n",
    "                if len(small_words) < len(big_words):\n",
    "                    vectorizer = CountVectorizer(ngram_range=(1, len(big_words)))\n",
    "                    vectorizer.fit([big_kp])\n",
    "                    big_ngrams = vectorizer.get_feature_names_out()\n",
    "                    if small_kp in big_ngrams:\n",
    "                        try:\n",
    "                            small_score = word2score[small_kp]\n",
    "                            big_score = word2score[big_kp]\n",
    "                            remove_small = False\n",
    "                            remove_big = False\n",
    "\n",
    "                            if len(small_words) == 2:\n",
    "                                if small_score > 4*big_score:\n",
    "                                    remove_big = True\n",
    "                                \n",
    "                                elif small_score < 1.8*big_score:\n",
    "                                    remove_small = True\n",
    "                            \n",
    "                            else:\n",
    "\n",
    "                                if small_score*0.6 <= big_score:\n",
    "                                    remove_small = True\n",
    "\n",
    "\n",
    "                                elif small_score > 4.2*big_score:\n",
    "                                \n",
    "                                    remove_big = True\n",
    "                                    \n",
    "                            if remove_small:\n",
    "                                output_preds[index].remove(small_kp)\n",
    "                            if remove_big:\n",
    "                                output_preds[index].remove(big_kp)\n",
    "                        except:\n",
    "                            pass\n",
    "\n",
    "    return output_preds"
   ]
  },
  {
   "cell_type": "markdown",
   "metadata": {},
   "source": [
    "#### Filter 4: mixing two words"
   ]
  },
  {
   "cell_type": "code",
   "execution_count": 28,
   "metadata": {},
   "outputs": [],
   "source": [
    "def return_two_words(pred):\n",
    "    twos = []\n",
    "    for kp in pred:\n",
    "        if len(kp.split()) == 2:\n",
    "            twos.append(kp)\n",
    "    return twos\n",
    "\n",
    "def mix_twos(twos):\n",
    "    output = {}\n",
    "\n",
    "    if len(twos) > 1:\n",
    "        for index, word1 in enumerate(twos):\n",
    "            for word2 in twos:\n",
    "                if word1 != word2:\n",
    "                    if word1.split()[1] == word2.split()[0]:\n",
    "                        output[word1 + \" \" + word2.split()[1]] = [word1, word2]\n",
    "\n",
    "    else:\n",
    "        output = {None:None}\n",
    "    return output"
   ]
  },
  {
   "cell_type": "code",
   "execution_count": 29,
   "metadata": {},
   "outputs": [],
   "source": [
    "def filter4(preds, text_ngrams, word2score, threshold=0.45):\n",
    "    output_preds = []\n",
    "    for index, pred in enumerate(preds):\n",
    "        output_preds.append(pred.copy())\n",
    "        twos = return_two_words(pred)\n",
    "        mixed = mix_twos(twos)\n",
    "        for key, value in mixed.items():\n",
    "\n",
    "            try:\n",
    "                word1 = value[0]\n",
    "                word2 = value[1]\n",
    "                word1_score = word2score[word1]\n",
    "                word2_score = word2score[word2]\n",
    "                mean_score = threshold * (word1_score + word2_score)\n",
    "                candidate_score = word2score[key]\n",
    "                if candidate_score >= mean_score:\n",
    "                    # print(key)\n",
    "                    try:\n",
    "                        output_preds[index].remove(word1)\n",
    "                        output_preds[index].remove(word2)\n",
    "                        pass\n",
    "                    except:\n",
    "                        pass\n",
    "\n",
    "                    if key not in output_preds[index]:\n",
    "                        output_preds[index].append(key)\n",
    "\n",
    "            except:\n",
    "                pass\n",
    "    return output_preds"
   ]
  },
  {
   "cell_type": "markdown",
   "metadata": {},
   "source": [
    "## TF-IDF BaseLine"
   ]
  },
  {
   "cell_type": "code",
   "execution_count": 30,
   "metadata": {},
   "outputs": [],
   "source": [
    "def choose_keywords(sentences_scoreVec, features, threshold):\n",
    "    df_keywords = []\n",
    "    for vector in sentences_scoreVec:\n",
    "        sentence_keywords = []\n",
    "        idx_score = list(enumerate(vector))\n",
    "        for tople in idx_score:\n",
    "            idx = tople[0]\n",
    "            score = tople[1]\n",
    "            if score > threshold:\n",
    "                sentence_keywords.append((idx, features[idx]))\n",
    "\n",
    "        df_keywords.append(sentence_keywords)\n",
    "\n",
    "    return df_keywords"
   ]
  },
  {
   "cell_type": "code",
   "execution_count": 31,
   "metadata": {},
   "outputs": [
    {
     "name": "stderr",
     "output_type": "stream",
     "text": [
      "e:\\Apps\\conda\\envs\\TensorFlow_GPU\\lib\\site-packages\\sklearn\\feature_extraction\\text.py:408: UserWarning: Your stop_words may be inconsistent with your preprocessing. Tokenizing the stop words generated tokens ['آید', 'توان', 'تواند', 'توانند', 'رسد', 'رود', 'سال', 'نمی', 'های', 'گوید', 'گویند'] not in stop_words.\n",
      "  warnings.warn(\n"
     ]
    }
   ],
   "source": [
    "tfidf = TfidfVectorizer(stop_words=utils.stopwords_list(), ngram_range=(1, 5))\n",
    "tfidf_scores = tfidf.fit_transform(df.sticked_tokenized).toarray()\n",
    "features = tfidf.get_feature_names_out()\n",
    "\n",
    "word2score = {}\n",
    "scores = tfidf_scores.max(axis=0)\n",
    "\n",
    "for feature, index in tfidf.vocabulary_.items():\n",
    "    score = scores[index]\n",
    "    word2score[feature] = score\n",
    "\n",
    "descrete_ngrams = []\n",
    "for text in df.sticked_tokenized:\n",
    "    tfidf.fit([text])\n",
    "    ngrams = tfidf.get_feature_names_out()\n",
    "    descrete_ngrams.append(ngrams)"
   ]
  },
  {
   "cell_type": "code",
   "execution_count": 36,
   "metadata": {},
   "outputs": [],
   "source": [
    "threshold = 0.07\n",
    "precisions = []\n",
    "recalls = []\n",
    "f1_scores = []\n",
    "keywords = df.keywords\n",
    "\n",
    "for i in range(5):\n",
    "    pred_keywords = choose_keywords(tfidf_scores, features, threshold)\n",
    "    \n",
    "    epoch_precision = []\n",
    "    epoch_recall = []\n",
    "    epoch_f1_score = []\n",
    "\n",
    "    for idx, sentence_KW in enumerate(pred_keywords):\n",
    "        kw_words = [s[1] for s in sentence_KW]\n",
    "\n",
    "        true_positive = 0\n",
    "        false_positive = 0\n",
    "        false_negative = 0\n",
    "\n",
    "        true_kw = keywords[idx]\n",
    "        total_count = len(true_kw)\n",
    "\n",
    "        for kw in kw_words:\n",
    "            if kw in true_kw:\n",
    "                true_positive += 1\n",
    "            else:\n",
    "                false_positive += 1\n",
    "\n",
    "        for t_kw in true_kw:\n",
    "            if t_kw not in kw_words:\n",
    "                false_negative += 1\n",
    "\n",
    "        precision = true_positive / (true_positive + false_positive + 0.0001)\n",
    "        recall = true_positive / (true_positive + false_negative + 0.0001)\n",
    "        f1_score = 2*precision*recall/(precision + recall + 0.0001)\n",
    "\n",
    "        epoch_precision.append(precision)\n",
    "        epoch_recall.append(recall)\n",
    "        epoch_f1_score.append(f1_score)\n",
    "\n",
    "    precisions.append(np.mean(epoch_precision))\n",
    "    recalls.append(np.mean(epoch_recall))\n",
    "    f1_scores.append(np.mean(epoch_f1_score))\n",
    "    threshold += 0.01\n",
    "\n",
    "# best threshold = 0.09 "
   ]
  },
  {
   "cell_type": "code",
   "execution_count": null,
   "metadata": {},
   "outputs": [],
   "source": [
    "thresholds = np.linspace(7, 12, 5)/100\n",
    "recalls = np.array(recalls)\n",
    "precisions = np.array(precisions)\n",
    "f1_scores = np.array(f1_scores)\n",
    "\n",
    "plt.plot(thresholds, recalls*100, 'r', label='Recall')\n",
    "plt.plot(thresholds, precisions*100, 'b', label='Precision')\n",
    "plt.plot(thresholds, f1_scores*100, 'd--', label='F1_Score')\n",
    "\n",
    "plt.grid(visible=True)\n",
    "plt.ylabel('Percent')\n",
    "plt.xlabel('Threshold')\n",
    "\n",
    "leg = plt.legend()"
   ]
  },
  {
   "cell_type": "markdown",
   "metadata": {},
   "source": [
    "## Singlerank"
   ]
  },
  {
   "cell_type": "code",
   "execution_count": 33,
   "metadata": {},
   "outputs": [],
   "source": [
    "def Singlerank(texts, n):\n",
    "    kp = []\n",
    "    \n",
    "    for text in texts:\n",
    "        extractor = SingleRank()\n",
    "        extractor.load_text(text, word_normalization_method=None)\n",
    "        extractor.select_candidates()\n",
    "        extractor.weight_candidates(normalize_weights=True, remove_redundants=True, window_size=10)\n",
    "\n",
    "        keyphrases = extractor.get_n_best(n=n)\n",
    "\n",
    "        keyphrases = [i[0] for i in keyphrases]\n",
    "        kp.append(keyphrases)\n",
    "\n",
    "    return kp"
   ]
  },
  {
   "cell_type": "code",
   "execution_count": null,
   "metadata": {},
   "outputs": [],
   "source": [
    "precisions = []\n",
    "recalls = []\n",
    "f1_scores = []\n",
    "trues = df.keywords\n",
    "\n",
    "for n in range(5, 20):\n",
    "    key_phrases = Singlerank(df.normalized[:20], n)\n",
    "\n",
    "    prec, rec, f1 = text_metrics(key_phrases, trues)\n",
    "    \n",
    "    precisions.append(prec)\n",
    "    recalls.append(rec)\n",
    "    f1_scores.append(f1)"
   ]
  },
  {
   "cell_type": "code",
   "execution_count": null,
   "metadata": {},
   "outputs": [
    {
     "data": {
      "image/png": "[encoded data removed]",
      "text/plain": [
       "<Figure size 640x480 with 1 Axes>"
      ]
     },
     "metadata": {},
     "output_type": "display_data"
    }
   ],
   "source": [
    "ns = np.linspace(5, 19, 15)\n",
    "recalls = np.array(recalls)\n",
    "precisions = np.array(precisions)\n",
    "f1_scores = np.array(f1_scores)\n",
    "\n",
    "plt.plot(ns, recalls*100, 'r', label='Recall')\n",
    "plt.plot(ns, precisions*100, 'b', label='Precision')\n",
    "plt.plot(ns, f1_scores*100, 'd--', label='F1_Score')\n",
    "\n",
    "plt.grid(visible=True)\n",
    "plt.ylabel('Percent')\n",
    "plt.xlabel('ns')\n",
    "\n",
    "leg = plt.legend()"
   ]
  },
  {
   "cell_type": "markdown",
   "metadata": {},
   "source": [
    "## Textrank"
   ]
  },
  {
   "cell_type": "code",
   "execution_count": 57,
   "metadata": {},
   "outputs": [],
   "source": [
    "def Textrank(texts, n):\n",
    "    kp = []\n",
    "    \n",
    "    for text in texts:\n",
    "        extractor = TextRank()\n",
    "        extractor.load_text(text, word_normalization_method=None)\n",
    "        extractor.select_candidates()\n",
    "        extractor.weight_candidates(normalize_weights=True, window_size=10)\n",
    "\n",
    "        keyphrases = extractor.get_n_best(n=n)\n",
    "        keyphrases = [i[0] for i in keyphrases]\n",
    "        kp.append(keyphrases)\n",
    "\n",
    "    return kp"
   ]
  },
  {
   "cell_type": "code",
   "execution_count": null,
   "metadata": {},
   "outputs": [],
   "source": [
    "precisions = []\n",
    "recalls = []\n",
    "f1_scores = []\n",
    "trues = df.keywords\n",
    "\n",
    "for n in range(5, 20):\n",
    "    key_phrases = Textrank(df.normalized[:20], n)\n",
    "\n",
    "    prec, rec, f1 = text_metrics(key_phrases, trues)\n",
    "    \n",
    "    precisions.append(prec)\n",
    "    recalls.append(rec)\n",
    "    f1_scores.append(f1)"
   ]
  },
  {
   "cell_type": "code",
   "execution_count": null,
   "metadata": {},
   "outputs": [
    {
     "data": {
      "image/png": "[encoded data removed]",
      "text/plain": [
       "<Figure size 640x480 with 1 Axes>"
      ]
     },
     "metadata": {},
     "output_type": "display_data"
    }
   ],
   "source": [
    "ns = np.linspace(5, 19, 15)\n",
    "recalls = np.array(recalls)\n",
    "precisions = np.array(precisions)\n",
    "f1_scores = np.array(f1_scores)\n",
    "\n",
    "plt.plot(ns, recalls*100, 'r', label='Recall')\n",
    "plt.plot(ns, precisions*100, 'b', label='Precision')\n",
    "plt.plot(ns, f1_scores*100, 'd--', label='F1_Score')\n",
    "\n",
    "plt.grid(visible=True)\n",
    "plt.ylabel('Percent')\n",
    "plt.xlabel('n')\n",
    "\n",
    "leg = plt.legend()"
   ]
  },
  {
   "cell_type": "markdown",
   "metadata": {},
   "source": [
    "## Position Rank"
   ]
  },
  {
   "cell_type": "code",
   "execution_count": 58,
   "metadata": {},
   "outputs": [],
   "source": [
    "def Positionrank(texts, n):\n",
    "    valid_pos_tags = {'NOUN', 'NOUN,EZ', 'ADJ', 'ADJ,EZ'}\n",
    "    # valid_pos_tags = {'NOUN', 'ADJ'}\n",
    "    grammar = r\"\"\"\n",
    "        NP:\n",
    "            {<NOUN>}<VERB>\n",
    "        NP:\n",
    "            {<DET(,EZ)?|NOUN(,EZ)?|NUM(,EZ)?|ADJ(,EZ)|PRON><DET(,EZ)|NOUN(,EZ)|NUM(,EZ)|ADJ(,EZ)|PRON>*}\n",
    "            <NOUN>}{<.*(,EZ)?>\n",
    "    \"\"\"\n",
    "\n",
    "    # grammar = r\"\"\"\n",
    "    #         NP:\n",
    "    #                 {<NOUN,EZ>?<NOUN.*>}    # Noun(s) + Noun(optional)\n",
    "             \n",
    "    #         NP:\n",
    "    #                 {<NOUN.*><ADJ.*>}    # Noun(s) + Adjective(optional)\n",
    "    #         \"\"\"\n",
    "    kp = []\n",
    "    for text in texts:\n",
    "        extractor = PositionRank(valid_pos_tags=valid_pos_tags)\n",
    "        extractor.load_text(input=text, word_normalization_method=None)\n",
    "        extractor.select_candidates(grammar=grammar, maximum_word_number=4)\n",
    "        # extractor.select_candidates(maximum_word_number=4)\n",
    "        extractor.weight_candidates(normalize_weights=True)\n",
    "\n",
    "        keyphrases = extractor.get_n_best(n=n)\n",
    "        # print(keyphrases)\n",
    "        keyphrases = [i[0] for i in keyphrases]\n",
    "        kp.append(keyphrases)\n",
    "\n",
    "    return kp"
   ]
  },
  {
   "cell_type": "code",
   "execution_count": 35,
   "metadata": {},
   "outputs": [],
   "source": [
    "precisions = []\n",
    "recalls = []\n",
    "f1_scores = []\n",
    "trues = df.keywords\n",
    "\n",
    "for n in range(4, 8):\n",
    "    key_phrases = Positionrank(df.normalized[:20], n)\n",
    "\n",
    "    prec, rec, f1 = text_metrics(key_phrases, trues)\n",
    "    \n",
    "    precisions.append(prec)\n",
    "    recalls.append(rec)\n",
    "    f1_scores.append(f1)"
   ]
  },
  {
   "cell_type": "code",
   "execution_count": 59,
   "metadata": {},
   "outputs": [
    {
     "data": {
      "image/png": "[encoded data removed]",
      "text/plain": [
       "<Figure size 640x480 with 1 Axes>"
      ]
     },
     "metadata": {},
     "output_type": "display_data"
    }
   ],
   "source": [
    "ns = np.linspace(4, 9, 5)\n",
    "recalls = np.array(recalls)\n",
    "precisions = np.array(precisions)\n",
    "f1_scores = np.array(f1_scores)\n",
    "\n",
    "plt.plot(ns, recalls*100, 'r', label='Recall')\n",
    "plt.plot(ns, precisions*100, 'b', label='Precision')\n",
    "plt.plot(ns, f1_scores*100, 'd--', label='F1_Score')\n",
    "\n",
    "plt.grid(visible=True)\n",
    "plt.ylabel('Percent')\n",
    "plt.xlabel('n')\n",
    "\n",
    "leg = plt.legend()"
   ]
  },
  {
   "cell_type": "markdown",
   "metadata": {},
   "source": [
    "## Topic Rank"
   ]
  },
  {
   "cell_type": "code",
   "execution_count": 60,
   "metadata": {},
   "outputs": [],
   "source": [
    "def Topicrank(texts, n):\n",
    "    kp = []\n",
    "    \n",
    "    for text in texts:\n",
    "        extractor = TopicRank()\n",
    "        extractor.load_text(text, word_normalization_method=None)\n",
    "        extractor.select_candidates()\n",
    "        extractor.weight_candidates()\n",
    "\n",
    "        keyphrases = extractor.get_n_best(n=n)\n",
    "\n",
    "        keyphrases = [i[0] for i in keyphrases]\n",
    "        kp.append(keyphrases)\n",
    "\n",
    "    return kp"
   ]
  },
  {
   "cell_type": "code",
   "execution_count": null,
   "metadata": {},
   "outputs": [],
   "source": [
    "precisions = []\n",
    "recalls = []\n",
    "f1_scores = []\n",
    "trues = df.keywords\n",
    "\n",
    "n = 3\n",
    "\n",
    "for i in range(4):\n",
    "    key_phrases = Topicrank(df.normalized[:20], n)\n",
    "\n",
    "    prec, rec, f1 = text_metrics(key_phrases, trues)\n",
    "    \n",
    "    precisions.append(prec)\n",
    "    recalls.append(rec)\n",
    "    f1_scores.append(f1)\n",
    "\n",
    "    n += 1"
   ]
  },
  {
   "cell_type": "code",
   "execution_count": null,
   "metadata": {},
   "outputs": [
    {
     "data": {
      "image/png": "[encoded data removed]",
      "text/plain": [
       "<Figure size 640x480 with 1 Axes>"
      ]
     },
     "metadata": {},
     "output_type": "display_data"
    }
   ],
   "source": [
    "ns = np.linspace(3, 6, 4)\n",
    "recalls = np.array(recalls)\n",
    "precisions = np.array(precisions)\n",
    "f1_scores = np.array(f1_scores)\n",
    "\n",
    "plt.plot(ns, recalls*100, 'r', label='Recall')\n",
    "plt.plot(ns, precisions*100, 'b', label='Precision')\n",
    "plt.plot(ns, f1_scores*100, 'd--', label='F1_Score')\n",
    "\n",
    "plt.grid(visible=True)\n",
    "plt.ylabel('Percent')\n",
    "plt.xlabel('n')\n",
    "\n",
    "leg = plt.legend()"
   ]
  },
  {
   "cell_type": "markdown",
   "metadata": {},
   "source": [
    "## Multi Partite Rank"
   ]
  },
  {
   "cell_type": "code",
   "execution_count": 61,
   "metadata": {},
   "outputs": [],
   "source": [
    "def multiPartiteRank(texts, n):\n",
    "    valid_pos_tags = {'NOUN', 'ADJ'}\n",
    "    \n",
    "    kp = []\n",
    "    \n",
    "    for text in texts:\n",
    "        extractor = MultipartiteRank(valid_pos_tags=valid_pos_tags)\n",
    "        extractor.load_text(text, word_normalization_method=None)\n",
    "        extractor.select_candidates()\n",
    "\n",
    "        # extractor.weight_candidates()\n",
    "        extractor.weight_candidates(\n",
    "        threshold=0.74,\n",
    "        metric='jaccard',\n",
    "        linkage_method='average',\n",
    "        alpha=1.1,\n",
    "        )\n",
    "\n",
    "        keyphrases = extractor.get_n_best(n=n)\n",
    "\n",
    "        keyphrases = [i[0] for i in keyphrases]\n",
    "        kp.append(keyphrases)\n",
    "\n",
    "    return kp\n"
   ]
  },
  {
   "cell_type": "code",
   "execution_count": null,
   "metadata": {},
   "outputs": [],
   "source": [
    "precisions = []\n",
    "recalls = []\n",
    "f1_scores = []\n",
    "trues = df.keywords\n",
    "\n",
    "for n in range(4, 10):\n",
    "    key_phrases = multiPartiteRank(df.normalized[:20], n)\n",
    "\n",
    "    prec, rec, f1 = text_metrics(key_phrases, trues)\n",
    "    \n",
    "    precisions.append(prec)\n",
    "    recalls.append(rec)\n",
    "    f1_scores.append(f1)\n"
   ]
  },
  {
   "cell_type": "code",
   "execution_count": null,
   "metadata": {},
   "outputs": [
    {
     "data": {
      "image/png": "[encoded data removed]",
      "text/plain": [
       "<Figure size 640x480 with 1 Axes>"
      ]
     },
     "metadata": {},
     "output_type": "display_data"
    }
   ],
   "source": [
    "ns = np.linspace(4, 9, 6)\n",
    "recalls = np.array(recalls)\n",
    "precisions = np.array(precisions)\n",
    "f1_scores = np.array(f1_scores)\n",
    "\n",
    "plt.plot(ns, recalls*100, 'r', label='Recall')\n",
    "plt.plot(ns, precisions*100, 'b', label='Precision')\n",
    "plt.plot(ns, f1_scores*100, 'd--', label='F1_Score')\n",
    "\n",
    "plt.grid(visible=True)\n",
    "plt.ylabel('Percent')\n",
    "plt.xlabel('n')\n",
    "\n",
    "leg = plt.legend()"
   ]
  },
  {
   "cell_type": "markdown",
   "metadata": {},
   "source": [
    "## YAKE!"
   ]
  },
  {
   "cell_type": "code",
   "execution_count": 62,
   "metadata": {},
   "outputs": [],
   "source": [
    "# best params: n=7, dedupLim=no matter, \n",
    "def yake(texts, n=7):\n",
    "\tall_keywords = []\t\n",
    "\n",
    "\tfor text in texts:\n",
    "\t\tkw_extractor = KeywordExtractor(n=3, dedupLim=0.4, features=None, lan=\"fa\")\n",
    "\t\tkeywords = kw_extractor.extract_keywords(text)\n",
    "\t\tkeywords = [kw[0] for kw in keywords[:n]]\n",
    "\t\tall_keywords.append(keywords)\n",
    "\n",
    "\treturn all_keywords"
   ]
  },
  {
   "cell_type": "code",
   "execution_count": null,
   "metadata": {},
   "outputs": [],
   "source": [
    "trues = df.keywords\n",
    "\n",
    "precisions = []\n",
    "recalls = []\n",
    "f1_scores = []\n",
    "\n",
    "kw = yake(df.normalized)\n",
    "prec, rec, f1 = text_metrics(kw, trues)\n",
    "\n",
    "precisions.append(prec)\n",
    "recalls.append(rec)\n",
    "f1_scores.append(f1)\n",
    "    "
   ]
  },
  {
   "cell_type": "code",
   "execution_count": null,
   "metadata": {},
   "outputs": [
    {
     "data": {
      "image/png": "[encoded data removed]",
      "text/plain": [
       "<Figure size 640x480 with 1 Axes>"
      ]
     },
     "metadata": {},
     "output_type": "display_data"
    }
   ],
   "source": [
    "ns = np.linspace(5, 8, 4)\n",
    "recalls = np.array(recalls)\n",
    "precisions = np.array(precisions)\n",
    "f1_scores = np.array(f1_scores)\n",
    "\n",
    "plt.plot(ns, recalls*100, 'r', label='Recall')\n",
    "plt.plot(ns, precisions*100, 'b', label='Precision')\n",
    "plt.plot(ns, f1_scores*100, 'd--', label='F1_Score')\n",
    "\n",
    "plt.grid(visible=True)\n",
    "plt.ylabel('Percent')\n",
    "plt.xlabel('n')\n",
    "\n",
    "leg = plt.legend()"
   ]
  },
  {
   "cell_type": "markdown",
   "metadata": {},
   "source": [
    "## SG Rank"
   ]
  },
  {
   "cell_type": "code",
   "execution_count": 63,
   "metadata": {},
   "outputs": [],
   "source": [
    "# Not Implemented!\n",
    "\n",
    "# import Algorithms\n",
    "# txt = df.normalized.iloc[0]\n",
    "# SGRank.sgrank([txt], 5)"
   ]
  },
  {
   "cell_type": "markdown",
   "metadata": {},
   "source": [
    "## Embed Rank"
   ]
  },
  {
   "cell_type": "code",
   "execution_count": 64,
   "metadata": {},
   "outputs": [],
   "source": [
    "def extract_candidates(tagged, grammer):    \n",
    "    keyphrase_candidate = set()\n",
    "    np_parser = nltk.RegexpParser(grammer)\n",
    "    trees = np_parser.parse_sents(tagged)\n",
    "    for tree in trees:\n",
    "        for subtree in tree.subtrees(filter=lambda t: t.label() == 'NP'):  # For each nounphrase\n",
    "            keyphrase_candidate.add(' '.join(word for word, tag in subtree.leaves()))\n",
    "    keyphrase_candidate = {kp for kp in keyphrase_candidate if len(kp.split()) <= 5}\n",
    "    keyphrase_candidate = list(keyphrase_candidate)\n",
    "    return keyphrase_candidate"
   ]
  },
  {
   "cell_type": "code",
   "execution_count": 65,
   "metadata": {},
   "outputs": [],
   "source": [
    "model_path = 'Models\\pos_tagger.model'\n",
    "tagger = POSTagger(model = model_path)\n",
    "token_tag_list = []\n",
    "for text_tokens in df.tokenized:\n",
    "    posed = tagger.tag_sents([text_tokens])\n",
    "    token_tag_list.append(posed)"
   ]
  },
  {
   "cell_type": "code",
   "execution_count": 66,
   "metadata": {},
   "outputs": [],
   "source": [
    "grammers = [\n",
    "            \"\"\"\n",
    "            NP:\n",
    "                    {<NOUN,EZ>?<NOUN.*>}    # Noun(s) + Noun(optional)\n",
    "            \"\"\" ,\n",
    "\n",
    "            \"\"\"\n",
    "            NP:\n",
    "                    {<NOUN.*><ADJ.*>}    # Noun(s) + Adjective(optional)\n",
    "            \"\"\"]\n",
    "\n",
    "all_candidates1 = []\n",
    "\n",
    "for token_tag in token_tag_list:\n",
    "        temp_candidate = extract_candidates(token_tag, grammers[0])\n",
    "        temp_candidate += extract_candidates(token_tag, grammers[1])\n",
    "        all_candidates1.append(np.array(temp_candidate))\n"
   ]
  },
  {
   "cell_type": "code",
   "execution_count": 67,
   "metadata": {},
   "outputs": [],
   "source": [
    "sent2vec_model_path = 'Models\\sent2vec-naab.model'\n",
    "sent2vec_model = SentEmbedding(sent2vec_model_path)"
   ]
  },
  {
   "cell_type": "code",
   "execution_count": 68,
   "metadata": {},
   "outputs": [],
   "source": [
    "all_candidates_vectors = []\n",
    "for keyPhrases in all_candidates1:\n",
    "    candidadte_vec = np.asarray([sent2vec_model[candidate] for candidate in keyPhrases])\n",
    "    all_candidates_vectors.append(candidadte_vec)"
   ]
  },
  {
   "cell_type": "code",
   "execution_count": 69,
   "metadata": {},
   "outputs": [],
   "source": [
    "all_sentences_vectors = []\n",
    "for txt in df.normalized:\n",
    "    sentence_vectorized = sent2vec_model[txt]\n",
    "    all_sentences_vectors.append(sentence_vectorized)"
   ]
  },
  {
   "cell_type": "code",
   "execution_count": 70,
   "metadata": {},
   "outputs": [],
   "source": [
    "all_candidate_sim_candidate = []\n",
    "for candidate in all_candidates_vectors:\n",
    "    candidate_sim_candidate = cosine_similarity(candidate)\n",
    "    all_candidate_sim_candidate.append(candidate_sim_candidate)"
   ]
  },
  {
   "cell_type": "code",
   "execution_count": 71,
   "metadata": {},
   "outputs": [],
   "source": [
    "all_candidates_sim_whole = []\n",
    "for i in range(450):\n",
    "    text_embeding = all_sentences_vectors[i]\n",
    "    candidate_embeddings = all_candidates_vectors[i]\n",
    "    \n",
    "    similarity = cosine_similarity(candidate_embeddings, text_embeding.reshape(1,-1))\n",
    "    similarity = similarity.reshape(1,-1)\n",
    "    all_candidates_sim_whole.append(similarity)"
   ]
  },
  {
   "cell_type": "code",
   "execution_count": 72,
   "metadata": {},
   "outputs": [],
   "source": [
    "for index, candidates_sim_whole in enumerate(all_candidates_sim_whole):\n",
    "    \n",
    "    candidates_sim_whole_norm = candidates_sim_whole / np.max(candidates_sim_whole)\n",
    "    candidates_sim_whole_norm = 0.5 + (candidates_sim_whole_norm - np.average(candidates_sim_whole_norm)) / np.std(candidates_sim_whole_norm)\n",
    "    all_candidates_sim_whole[index] = candidates_sim_whole_norm[0]"
   ]
  },
  {
   "cell_type": "code",
   "execution_count": 73,
   "metadata": {},
   "outputs": [],
   "source": [
    "for index, candidate_sim_candidate in enumerate(all_candidate_sim_candidate):\n",
    "    \n",
    "    np.fill_diagonal(candidate_sim_candidate, np.NaN)\n",
    "    candidate_sim_candidate_norm = candidate_sim_candidate / np.nanmax(candidate_sim_candidate, axis=0)\n",
    "    candidate_sim_candidate_norm = 0.5 + (candidate_sim_candidate_norm - np.nanmean(candidate_sim_candidate_norm, axis=0)) / np.nanstd(candidate_sim_candidate_norm, axis=0)\n",
    "    all_candidate_sim_candidate[index] = candidate_sim_candidate_norm"
   ]
  },
  {
   "cell_type": "code",
   "execution_count": 74,
   "metadata": {},
   "outputs": [],
   "source": [
    "from operator import itemgetter \n",
    "beta = 0.82\n",
    "keyword_count = 5\n",
    "kp_preds = []\n",
    "\n",
    "for index in range(450):\n",
    "    candidates = all_candidates1[index]\n",
    "    N = min(len(candidates), keyword_count)\n",
    "\n",
    "    selected_candidates = []\n",
    "    unselected_candidates = [i for i in range(len(candidates))]\n",
    "    best_candidate = np.argmax(all_candidates_sim_whole[index])\n",
    "    selected_candidates.append(best_candidate)\n",
    "    unselected_candidates.remove(best_candidate)\n",
    "\n",
    "\n",
    "    for i in range(N-1):\n",
    "        selected_vec = np.array(selected_candidates)\n",
    "        unselected_vec = np.array(unselected_candidates)\n",
    "    \n",
    "        unselected_candidate_sim_whole = all_candidates_sim_whole[index][unselected_vec]\n",
    "\n",
    "        dist_between = all_candidate_sim_candidate[index][unselected_vec]\n",
    "\n",
    "        if dist_between.ndim == 1:\n",
    "            print('if runed')\n",
    "            dist_between = dist_between[:, np.newaxis]\n",
    "\n",
    "        best_candidate = np.argmax(beta * unselected_candidate_sim_whole - (1 - beta) * np.nanmax(dist_between, axis = 1))\n",
    "        best_index = unselected_candidates[best_candidate]\n",
    "        \n",
    "\n",
    "        selected_candidates.append(best_index)\n",
    "        unselected_candidates.remove(best_index)\n",
    "\n",
    "    kp_pred = itemgetter(*selected_candidates)(all_candidates1[index])\n",
    "    kp_preds.append(list(kp_pred))"
   ]
  },
  {
   "cell_type": "code",
   "execution_count": 75,
   "metadata": {},
   "outputs": [
    {
     "name": "stdout",
     "output_type": "stream",
     "text": [
      "Precision: 7.11 | Recall: 7.73 | F1-Score: 7.41\n",
      "Precision: 7.11 | Recall: 7.73 | F1-Score: 7.41\n",
      "Precision: 7.12 | Recall: 7.73 | F1-Score: 7.41\n",
      "Precision: 7.20 | Recall: 7.44 | F1-Score: 7.32\n"
     ]
    }
   ],
   "source": [
    "prec, rec, f1 = text_metrics(kp_preds, trues)\n",
    "print(f\"Precision: {'{:.2f}'.format(prec*100)}\\\n",
    " | Recall: {'{:.2f}'.format(rec*100)}\\\n",
    " | F1-Score: {'{:.2f}'.format(f1*100)}\") \n",
    "\n",
    "kp_preds1 = filter1(kp_preds)\n",
    "prec, rec, f1 = text_metrics(kp_preds1, trues)\n",
    "print(f\"Precision: {'{:.2f}'.format(prec*100)}\\\n",
    " | Recall: {'{:.2f}'.format(rec*100)}\\\n",
    " | F1-Score: {'{:.2f}'.format(f1*100)}\") \n",
    "\n",
    "kp_preds1 = filter2(kp_preds, descrete_ngrams, word2score)\n",
    "prec, rec, f1 = text_metrics(kp_preds1, trues)\n",
    "print(f\"Precision: {'{:.2f}'.format(prec*100)}\\\n",
    " | Recall: {'{:.2f}'.format(rec*100)}\\\n",
    " | F1-Score: {'{:.2f}'.format(f1*100)}\") \n",
    "\n",
    "kp_preds1 = filter3(kp_preds, word2score)\n",
    "prec, rec, f1 = text_metrics(kp_preds1, trues)\n",
    "print(f\"Precision: {'{:.2f}'.format(prec*100)}\\\n",
    " | Recall: {'{:.2f}'.format(rec*100)}\\\n",
    " | F1-Score: {'{:.2f}'.format(f1*100)}\") "
   ]
  },
  {
   "cell_type": "markdown",
   "metadata": {},
   "source": [
    "## TF-idf with chunking, KP-Miner"
   ]
  },
  {
   "cell_type": "markdown",
   "metadata": {},
   "source": [
    "#### Predict Function"
   ]
  },
  {
   "cell_type": "code",
   "execution_count": null,
   "metadata": {},
   "outputs": [],
   "source": [
    "def candidate_score(features, tfidf_scores, candidates):\n",
    "    chunk_indexes = []\n",
    "    chunk_features = []\n",
    "    chunk_scores = []\n",
    "    feature_score = []\n",
    "    \n",
    "    for i in range(450):\n",
    "        tmp_indexes = []\n",
    "        tmp_features = []\n",
    "        tmp_scores = []\n",
    "\n",
    "        for index, feature in enumerate(features):\n",
    "            if feature in candidates[i]:\n",
    "                tmp_indexes.append(index)\n",
    "                tmp_features.append(feature)\n",
    "                score = tfidf_scores[i][index]\n",
    "                score = increment_score(feature, score)\n",
    "                tmp_scores.append(score)\n",
    "\n",
    "        chunk_indexes.append(tmp_indexes)\n",
    "        chunk_features.append(tmp_features)\n",
    "        chunk_scores.append(tmp_scores)\n",
    "\n",
    "    for i in range(len(chunk_features)):\n",
    "        tmp = []\n",
    "        for feature, score in zip(chunk_features[i], chunk_scores[i]):\n",
    "            tmp.append((feature, score))\n",
    "\n",
    "        feature_score.append(sorted(tmp, key=lambda x : x[1], reverse=True))\n",
    "    \n",
    "    return feature_score"
   ]
  },
  {
   "cell_type": "code",
   "execution_count": null,
   "metadata": {},
   "outputs": [],
   "source": [
    "def add_NE(name_entities, preds):\n",
    "    for index, name_entity_lst in enumerate(name_entities):\n",
    "        for name_entity in name_entity_lst:\n",
    "            if name_entity not in preds[index]:\n",
    "                preds[index].append(name_entity)\n",
    "    return preds"
   ]
  },
  {
   "cell_type": "code",
   "execution_count": null,
   "metadata": {},
   "outputs": [],
   "source": [
    "def apply_filters(preds, descrete_ngrams, word2score):\n",
    "    preds = filter1(preds)\n",
    "    preds = filter2(preds, descrete_ngrams, word2score)\n",
    "    preds = filter4(preds, descrete_ngrams, word2score, threshold=0.4)\n",
    "    preds = filter3(preds, word2score)\n",
    "\n",
    "    return preds"
   ]
  },
  {
   "cell_type": "code",
   "execution_count": null,
   "metadata": {},
   "outputs": [],
   "source": [
    "def predict_with_threshold(feature_score, descrete_ngrams, word2score, name_entities, \n",
    "                            minimum=4, maximum=6, threshold=0.2):\n",
    "    preds = []\n",
    "    for pred in feature_score:\n",
    "        tmp_pred = []\n",
    "        for feature, score in pred:\n",
    "            if score >= threshold:\n",
    "                tmp_pred.append(feature)\n",
    "        tmp_pred = apply_filters([tmp_pred], descrete_ngrams, word2score)[0]\n",
    "\n",
    "        if len(tmp_pred) < minimum:\n",
    "            tmp_pred = []\n",
    "            for feature, _ in pred[:20]:\n",
    "                tmp_pred.append(feature)\n",
    "            tmp_pred = apply_filters([tmp_pred], descrete_ngrams, word2score)[0][:minimum]\n",
    "            \n",
    "        elif len(tmp_pred) > maximum:\n",
    "            tmp_pred = []\n",
    "            for feature, _ in pred[:40]:\n",
    "                tmp_pred.append(feature)\n",
    "            tmp_pred = apply_filters([tmp_pred], descrete_ngrams, word2score)[0][:maximum]\n",
    "\n",
    "        preds.append(tmp_pred)\n",
    "    preds = add_NE(name_entities, preds)\n",
    "    preds = apply_filters(preds, descrete_ngrams, word2score)\n",
    "    return preds"
   ]
  },
  {
   "cell_type": "markdown",
   "metadata": {},
   "source": [
    "#### Increment Score Of words Base on length"
   ]
  },
  {
   "cell_type": "code",
   "execution_count": null,
   "metadata": {},
   "outputs": [],
   "source": [
    "def increment_score(kp, score):\n",
    "    length = len(kp.split())\n",
    "\n",
    "    factor1 = 0.045\n",
    "    factor2 = 0.12\n",
    "    factor3 = 0.03\n",
    "\n",
    "    if length == 1:\n",
    "        score += factor1\n",
    "\n",
    "    if length == 2:\n",
    "        score += factor2\n",
    "\n",
    "    if length == 3:\n",
    "        score += factor3\n",
    "\n",
    "    return score"
   ]
  },
  {
   "cell_type": "markdown",
   "metadata": {},
   "source": [
    "### Making N_Grams"
   ]
  },
  {
   "cell_type": "code",
   "execution_count": null,
   "metadata": {},
   "outputs": [
    {
     "name": "stderr",
     "output_type": "stream",
     "text": [
      "e:\\Apps\\conda\\envs\\TensorFlow_GPU\\lib\\site-packages\\sklearn\\feature_extraction\\text.py:408: UserWarning: Your stop_words may be inconsistent with your preprocessing. Tokenizing the stop words generated tokens ['آید', 'توان', 'تواند', 'توانند', 'رسد', 'رود', 'سال', 'نمی', 'های', 'گوید', 'گویند'] not in stop_words.\n",
      "  warnings.warn(\n"
     ]
    }
   ],
   "source": [
    "tfidf = TfidfVectorizer(stop_words=utils.stopwords_list(), ngram_range=(1, 3))\n",
    "tfidf_scores = tfidf.fit_transform(df.sticked_tokenized).toarray()\n",
    "features = tfidf.get_feature_names_out()"
   ]
  },
  {
   "cell_type": "code",
   "execution_count": null,
   "metadata": {},
   "outputs": [],
   "source": [
    "word2score = {}\n",
    "scores = tfidf_scores.max(axis=0)\n",
    "\n",
    "for feature, index in tfidf.vocabulary_.items():\n",
    "    score = scores[index]\n",
    "    word2score[feature] = score"
   ]
  },
  {
   "cell_type": "code",
   "execution_count": null,
   "metadata": {},
   "outputs": [],
   "source": [
    "descrete_ngrams = []\n",
    "for text in df.sticked_tokenized:\n",
    "    tfidf.fit([text])\n",
    "    ngrams = tfidf.get_feature_names_out()\n",
    "    descrete_ngrams.append(ngrams)"
   ]
  },
  {
   "cell_type": "markdown",
   "metadata": {},
   "source": [
    "### Model"
   ]
  },
  {
   "cell_type": "code",
   "execution_count": null,
   "metadata": {},
   "outputs": [],
   "source": [
    "model_path = 'Models\\pos_tagger.model'\n",
    "tagger = POSTagger(model = model_path)\n",
    "token_tag_list = []\n",
    "for text_tokens in df.tokenized:\n",
    "    posed = tagger.tag_sents([text_tokens])\n",
    "    token_tag_list.append(posed)\n",
    "\n",
    "grammers = [\n",
    "            \"\"\"\n",
    "            NP:\n",
    "                    {<NOUN,EZ>?<NOUN.*>}    # Noun(s) + Noun(optional)\n",
    "            \"\"\" ,\n",
    "\n",
    "            \"\"\"\n",
    "            NP:\n",
    "                    {<NOUN.*><ADJ.*>}    # Noun(s) + Adjective(optional)\n",
    "            \"\"\"]\n",
    "\n",
    "all_candidates1 = []\n",
    "\n",
    "for token_tag in token_tag_list:\n",
    "        temp_candidate = extract_candidates(token_tag, grammers[0])\n",
    "        temp_candidate += extract_candidates(token_tag, grammers[1])\n",
    "        all_candidates1.append(np.array(temp_candidate))"
   ]
  },
  {
   "cell_type": "markdown",
   "metadata": {},
   "source": [
    "### Predicting"
   ]
  },
  {
   "cell_type": "markdown",
   "metadata": {},
   "source": [
    "#### With Threshold"
   ]
  },
  {
   "cell_type": "code",
   "execution_count": null,
   "metadata": {},
   "outputs": [],
   "source": [
    "feature_score = candidate_score(features, tfidf_scores, all_candidates1)"
   ]
  },
  {
   "cell_type": "code",
   "execution_count": null,
   "metadata": {},
   "outputs": [
    {
     "name": "stdout",
     "output_type": "stream",
     "text": [
      "Precision: 36.54 | Recall: 31.91 | F1-Score: 34.07\n"
     ]
    }
   ],
   "source": [
    "preds = predict_with_threshold(feature_score, descrete_ngrams, word2score, name_entities,\n",
    "                                minimum=2, maximum=7, threshold=0.2015)\n",
    "\n",
    "prec, rec, f1 = text_metrics(preds, trues)\n",
    "print(f\"Precision: {'{:.2f}'.format(prec*100)}\\\n",
    " | Recall: {'{:.2f}'.format(rec*100)}\\\n",
    " | F1-Score: {'{:.2f}'.format(f1*100)}\")     "
   ]
  },
  {
   "cell_type": "markdown",
   "metadata": {},
   "source": [
    "#### With N_Best"
   ]
  },
  {
   "cell_type": "code",
   "execution_count": null,
   "metadata": {},
   "outputs": [
    {
     "name": "stdout",
     "output_type": "stream",
     "text": [
      "Precision: 0.2845733500275018, Recall: 0.3273694389132643, F1-Score: 0.30447442922633805\n"
     ]
    }
   ],
   "source": [
    "preds = predict_with_threshold(feature_score, five_ngrams, word2score, name_entities, \n",
    "minimum=5, maximum=5, threshold=1)\n",
    "\n",
    "prec, rec, f1 = text_metrics(preds, trues)\n",
    "print(f\"Precision: {prec}, Recall: {rec}, F1-Score: {f1}\")     "
   ]
  },
  {
   "cell_type": "markdown",
   "metadata": {},
   "source": [
    "### Test"
   ]
  },
  {
   "cell_type": "code",
   "execution_count": 496,
   "metadata": {},
   "outputs": [
    {
     "name": "stdout",
     "output_type": "stream",
     "text": [
      "True KeyPhrases From Sentences(130, 135)\n",
      "1 ['مبانی تاریخ گذاری', 'تاریخ گذاری قرآن', 'بازرگان', 'روش آماری']\n",
      "2 ['فلسفه انتقادی تاریخ', 'فلسفه نظری تاریخ', 'فلسفه تاریخ', 'تاریخ', 'مورخ']\n",
      "3 ['حقوق زنان', 'تاریخی نگری', 'تاریخ', 'نقد', 'قرآن', 'احکام فقهی']\n",
      "4 ['رشد اقتصادی', 'کشورهای منتخب', 'داده های تابلویی', 'تامین مالی اسلامی']\n",
      "5 ['رویکرد تفکیک', 'رویکرد برابری', 'رویکرد خنثی', 'تبیین فلسفی', 'ملاحظات جنسیتی']\n",
      "-----------------------------------------------------------------------------------------------------------------------------------------\n",
      "Predicted KeyPhrases\n",
      "1 ['قرآن کریم', 'نزول', 'بازرگان', 'تاریخ نزول', 'مبانی تاریخ']\n",
      "2 ['فلسفه تاریخ', 'تاریخ']\n",
      "3 ['زنان', 'مسائل فقهی', 'متون دینی', 'تاریخ مند', 'تاریخ مندانه', 'احکام فقهی']\n",
      "4 ['تامین مالی', 'توسعه اقتصادی']\n",
      "5 ['ملاحظات جنسیتی', 'رویکردهای ناظر', 'عدالت محور', 'مبانی فلسفی']\n"
     ]
    }
   ],
   "source": [
    "print('True KeyPhrases From Sentences(130, 135)')\n",
    "for index, i in enumerate(trues[130:135]):\n",
    "    print(index+1, i)\n",
    "\n",
    "print('-----------------------------------------------------------------------------------------------------------------------------------------')\n",
    "print('Predicted KeyPhrases')\n",
    "for index, i in enumerate(preds[130:135]):\n",
    "    print(index+1, i)"
   ]
  },
  {
   "cell_type": "markdown",
   "metadata": {},
   "source": [
    "## Name Entity Recognition"
   ]
  },
  {
   "cell_type": "code",
   "execution_count": 38,
   "metadata": {},
   "outputs": [
    {
     "name": "stderr",
     "output_type": "stream",
     "text": [
      "All model checkpoint layers were used when initializing TFAlbertForTokenClassification.\n",
      "\n",
      "All the layers of TFAlbertForTokenClassification were initialized from the model checkpoint at HooshvareLab/albert-fa-zwnj-base-v2-ner.\n",
      "If your task is similar to the task the model of the checkpoint was trained on, you can already use TFAlbertForTokenClassification for predictions without further training.\n"
     ]
    }
   ],
   "source": [
    "from transformers import AutoTokenizer\n",
    "from transformers import TFAutoModelForTokenClassification\n",
    "from transformers import pipeline\n",
    "\n",
    "\n",
    "model_name_or_path = \"HooshvareLab/albert-fa-zwnj-base-v2-ner\"  # Albert\n",
    "tokenizer = AutoTokenizer.from_pretrained(model_name_or_path)\n",
    "model = TFAutoModelForTokenClassification.from_pretrained(model_name_or_path)\n",
    "\n",
    "nlp = pipeline(\"ner\", model=model, tokenizer=tokenizer)"
   ]
  },
  {
   "cell_type": "markdown",
   "metadata": {},
   "source": [
    "#### NER Function for Whole corpus"
   ]
  },
  {
   "cell_type": "code",
   "execution_count": 39,
   "metadata": {},
   "outputs": [],
   "source": [
    "def index2word(dicts):\n",
    "    output = {}\n",
    "    for dictionary in dicts:\n",
    "        index = dictionary['index']\n",
    "        word = dictionary['word']\n",
    "        output[index] = word\n",
    "\n",
    "    return output"
   ]
  },
  {
   "cell_type": "code",
   "execution_count": 40,
   "metadata": {},
   "outputs": [],
   "source": [
    "def find_sequence(numbers):\n",
    "    sequences = []\n",
    "    index = 0\n",
    "    while index < len(numbers)-1:\n",
    "        sequence = []\n",
    "        num1 = numbers[index]\n",
    "        num2 = numbers[index+1]\n",
    "        sequence.append(num1)\n",
    "        \n",
    "        while num2 == num1+1:\n",
    "            sequence.append(num2)\n",
    "            index += 1\n",
    "            num1 = num2\n",
    "            try:\n",
    "                num2 = numbers[index+1]\n",
    "            except:\n",
    "                break\n",
    "        if sequence!=[num1]:\n",
    "            sequences.append(sequence)\n",
    "            \n",
    "        index += 1\n",
    "        \n",
    "    return sequences"
   ]
  },
  {
   "cell_type": "code",
   "execution_count": 41,
   "metadata": {},
   "outputs": [],
   "source": [
    "def index_to_words(sequences, index2words, ngrams):\n",
    "    all_ne = []\n",
    "    for sequence in sequences:\n",
    "        words = [index2words[index].replace(\"▁\", \"\") for index in sequence]\n",
    "        ne = \" \".join(words)\n",
    "        if ne in ngrams:\n",
    "            all_ne.append(ne)\n",
    "    return all_ne"
   ]
  },
  {
   "cell_type": "code",
   "execution_count": 42,
   "metadata": {},
   "outputs": [],
   "source": [
    "def make_texts_dicts(corpus):\n",
    "    all_dicts = []\n",
    "    for text in corpus:\n",
    "        all_dicts.append(nlp(text))\n",
    "\n",
    "    return all_dicts"
   ]
  },
  {
   "cell_type": "code",
   "execution_count": 43,
   "metadata": {},
   "outputs": [],
   "source": [
    "def chain_words(texts_dicts, descrete_ngrams):\n",
    "    all_ne = []\n",
    "    for index, text_dict in enumerate(texts_dicts):\n",
    "        index2words = index2word(text_dict)\n",
    "        tmp_indexes = []\n",
    "        for dictionary in text_dict:\n",
    "            tmp_indexes.append(dictionary['index'])\n",
    "        tmp_indexes.sort()\n",
    "        sequences = find_sequence(tmp_indexes)\n",
    "        name_entities = index_to_words(sequences, index2words, descrete_ngrams[index])\n",
    "        name_entities = list(set(name_entities))\n",
    "        all_ne.append(name_entities)\n",
    "\n",
    "    return all_ne"
   ]
  },
  {
   "cell_type": "code",
   "execution_count": 44,
   "metadata": {},
   "outputs": [],
   "source": [
    "texts_dicts = make_texts_dicts(df.sticked_tokenized)\n",
    "name_entities = chain_words(texts_dicts, descrete_ngrams)"
   ]
  },
  {
   "cell_type": "markdown",
   "metadata": {},
   "source": [
    "## Models Comparison"
   ]
  },
  {
   "cell_type": "code",
   "execution_count": 49,
   "metadata": {},
   "outputs": [],
   "source": [
    "trues = df.keywords"
   ]
  },
  {
   "cell_type": "markdown",
   "metadata": {},
   "source": [
    "### Singlerank"
   ]
  },
  {
   "cell_type": "code",
   "execution_count": 46,
   "metadata": {},
   "outputs": [],
   "source": [
    "key_phrases_sr = Singlerank(df.normalized, 7)"
   ]
  },
  {
   "cell_type": "code",
   "execution_count": 55,
   "metadata": {},
   "outputs": [
    {
     "name": "stdout",
     "output_type": "stream",
     "text": [
      "Precision: 15.59 | Recall: 23.74 | F1-Score: 18.82\n",
      "Precision: 18.77 | Recall: 23.40 | F1-Score: 20.84\n",
      "Precision: 18.88 | Recall: 23.40 | F1-Score: 20.90\n",
      "Precision: 21.86 | Recall: 21.52 | F1-Score: 21.69\n"
     ]
    }
   ],
   "source": [
    "prec, rec, f1 = text_metrics(key_phrases_sr, trues)\n",
    "print(f\"Precision: {'{:.2f}'.format(prec*100)}\\\n",
    " | Recall: {'{:.2f}'.format(rec*100)}\\\n",
    " | F1-Score: {'{:.2f}'.format(f1*100)}\")   \n",
    "\n",
    "key_phrases_sr1 = filter1(key_phrases_sr)\n",
    "prec, rec, f1 = text_metrics(key_phrases_sr1, trues)\n",
    "print(f\"Precision: {'{:.2f}'.format(prec*100)}\\\n",
    " | Recall: {'{:.2f}'.format(rec*100)}\\\n",
    " | F1-Score: {'{:.2f}'.format(f1*100)}\")   \n",
    "\n",
    "key_phrases_sr1 = filter2(key_phrases_sr1, descrete_ngrams, word2score)\n",
    "prec, rec, f1 = text_metrics(key_phrases_sr1, trues)\n",
    "print(f\"Precision: {'{:.2f}'.format(prec*100)}\\\n",
    " | Recall: {'{:.2f}'.format(rec*100)}\\\n",
    " | F1-Score: {'{:.2f}'.format(f1*100)}\")   \n",
    "\n",
    "key_phrases_sr1 = filter3(key_phrases_sr1, word2score)\n",
    "prec, rec, f1 = text_metrics(key_phrases_sr1, trues)\n",
    "print(f\"Precision: {'{:.2f}'.format(prec*100)}\\\n",
    " | Recall: {'{:.2f}'.format(rec*100)}\\\n",
    " | F1-Score: {'{:.2f}'.format(f1*100)}\")   "
   ]
  },
  {
   "cell_type": "markdown",
   "metadata": {},
   "source": [
    "### TextRank"
   ]
  },
  {
   "cell_type": "code",
   "execution_count": 76,
   "metadata": {},
   "outputs": [],
   "source": [
    "key_phrases_ter = Textrank(df.normalized, 5) "
   ]
  },
  {
   "cell_type": "code",
   "execution_count": 77,
   "metadata": {},
   "outputs": [
    {
     "name": "stdout",
     "output_type": "stream",
     "text": [
      "Precision: 18.58 | Recall: 20.21 | F1-Score: 19.36\n",
      "Precision: 20.93 | Recall: 20.02 | F1-Score: 20.46\n",
      "Precision: 21.07 | Recall: 20.07 | F1-Score: 20.55\n",
      "Precision: 24.13 | Recall: 18.81 | F1-Score: 21.14\n"
     ]
    }
   ],
   "source": [
    "prec, rec, f1 = text_metrics(key_phrases_ter, trues)\n",
    "print(f\"Precision: {'{:.2f}'.format(prec*100)}\\\n",
    " | Recall: {'{:.2f}'.format(rec*100)}\\\n",
    " | F1-Score: {'{:.2f}'.format(f1*100)}\")   \n",
    "\n",
    "\n",
    "key_phrases_ter1 = filter1(key_phrases_ter)\n",
    "prec, rec, f1 = text_metrics(key_phrases_ter1, trues)\n",
    "print(f\"Precision: {'{:.2f}'.format(prec*100)}\\\n",
    " | Recall: {'{:.2f}'.format(rec*100)}\\\n",
    " | F1-Score: {'{:.2f}'.format(f1*100)}\")   \n",
    "\n",
    "\n",
    "key_phrases_ter1 = filter2(key_phrases_ter1, descrete_ngrams, word2score)\n",
    "prec, rec, f1 = text_metrics(key_phrases_ter1, trues)\n",
    "print(f\"Precision: {'{:.2f}'.format(prec*100)}\\\n",
    " | Recall: {'{:.2f}'.format(rec*100)}\\\n",
    " | F1-Score: {'{:.2f}'.format(f1*100)}\")   \n",
    "\n",
    "key_phrases_ter1 = filter3(key_phrases_ter1, word2score)\n",
    "prec, rec, f1 = text_metrics(key_phrases_ter1, trues)\n",
    "print(f\"Precision: {'{:.2f}'.format(prec*100)}\\\n",
    " | Recall: {'{:.2f}'.format(rec*100)}\\\n",
    " | F1-Score: {'{:.2f}'.format(f1*100)}\")   "
   ]
  },
  {
   "cell_type": "markdown",
   "metadata": {},
   "source": [
    "### PositionRank"
   ]
  },
  {
   "cell_type": "code",
   "execution_count": 78,
   "metadata": {},
   "outputs": [],
   "source": [
    "key_phrases_pr = Positionrank(df.normalized, 5) "
   ]
  },
  {
   "cell_type": "code",
   "execution_count": 79,
   "metadata": {},
   "outputs": [
    {
     "name": "stdout",
     "output_type": "stream",
     "text": [
      "Precision: 5.96 | Recall: 6.48 | F1-Score: 6.21\n",
      "Precision: 5.96 | Recall: 6.48 | F1-Score: 6.21\n",
      "Precision: 8.04 | Recall: 8.27 | F1-Score: 8.15\n",
      "Precision: 8.07 | Recall: 8.27 | F1-Score: 8.17\n"
     ]
    }
   ],
   "source": [
    "prec, rec, f1 = text_metrics(key_phrases_pr, trues)\n",
    "print(f\"Precision: {'{:.2f}'.format(prec*100)}\\\n",
    " | Recall: {'{:.2f}'.format(rec*100)}\\\n",
    " | F1-Score: {'{:.2f}'.format(f1*100)}\")   \n",
    "\n",
    "key_phrases_pr1 = filter1(key_phrases_pr)\n",
    "prec, rec, f1 = text_metrics(key_phrases_pr1, trues)\n",
    "print(f\"Precision: {'{:.2f}'.format(prec*100)}\\\n",
    " | Recall: {'{:.2f}'.format(rec*100)}\\\n",
    " | F1-Score: {'{:.2f}'.format(f1*100)}\")   \n",
    "\n",
    "key_phrases_pr1 = filter2(key_phrases_pr1, descrete_ngrams, word2score)\n",
    "prec, rec, f1 = text_metrics(key_phrases_pr1, trues)\n",
    "print(f\"Precision: {'{:.2f}'.format(prec*100)}\\\n",
    " | Recall: {'{:.2f}'.format(rec*100)}\\\n",
    " | F1-Score: {'{:.2f}'.format(f1*100)}\")   \n",
    "\n",
    "key_phrases_pr1 = filter3(key_phrases_pr1, word2score)\n",
    "prec, rec, f1 = text_metrics(key_phrases_pr1, trues)\n",
    "print(f\"Precision: {'{:.2f}'.format(prec*100)}\\\n",
    " | Recall: {'{:.2f}'.format(rec*100)}\\\n",
    " | F1-Score: {'{:.2f}'.format(f1*100)}\")   "
   ]
  },
  {
   "cell_type": "markdown",
   "metadata": {},
   "source": [
    "### TopicRank"
   ]
  },
  {
   "cell_type": "code",
   "execution_count": 80,
   "metadata": {},
   "outputs": [],
   "source": [
    "key_phrases_tor = Topicrank(df.normalized, 4) "
   ]
  },
  {
   "cell_type": "code",
   "execution_count": 81,
   "metadata": {},
   "outputs": [
    {
     "name": "stdout",
     "output_type": "stream",
     "text": [
      "Precision: 16.61 | Recall: 14.46 | F1-Score: 15.46\n",
      "Precision: 17.97 | Recall: 14.41 | F1-Score: 16.00\n",
      "Precision: 17.96 | Recall: 14.31 | F1-Score: 15.93\n",
      "Precision: 17.98 | Recall: 14.26 | F1-Score: 15.91\n"
     ]
    }
   ],
   "source": [
    "prec, rec, f1 = text_metrics(key_phrases_tor, trues)\n",
    "print(f\"Precision: {'{:.2f}'.format(prec*100)}\\\n",
    " | Recall: {'{:.2f}'.format(rec*100)}\\\n",
    " | F1-Score: {'{:.2f}'.format(f1*100)}\")   \n",
    "\n",
    "key_phrases_tor1 = filter1(key_phrases_tor)\n",
    "prec, rec, f1 = text_metrics(key_phrases_tor1, trues)\n",
    "print(f\"Precision: {'{:.2f}'.format(prec*100)}\\\n",
    " | Recall: {'{:.2f}'.format(rec*100)}\\\n",
    " | F1-Score: {'{:.2f}'.format(f1*100)}\")   \n",
    "\n",
    "key_phrases_tor1 = filter2(key_phrases_tor1, descrete_ngrams, word2score)\n",
    "prec, rec, f1 = text_metrics(key_phrases_tor1, trues)\n",
    "print(f\"Precision: {'{:.2f}'.format(prec*100)}\\\n",
    " | Recall: {'{:.2f}'.format(rec*100)}\\\n",
    " | F1-Score: {'{:.2f}'.format(f1*100)}\")   \n",
    "\n",
    "key_phrases_tor1 = filter3(key_phrases_tor1, word2score)\n",
    "prec, rec, f1 = text_metrics(key_phrases_tor1, trues)\n",
    "print(f\"Precision: {'{:.2f}'.format(prec*100)}\\\n",
    " | Recall: {'{:.2f}'.format(rec*100)}\\\n",
    " | F1-Score: {'{:.2f}'.format(f1*100)}\")   "
   ]
  },
  {
   "cell_type": "markdown",
   "metadata": {},
   "source": [
    "### MultiPartiteRank"
   ]
  },
  {
   "cell_type": "code",
   "execution_count": 82,
   "metadata": {},
   "outputs": [],
   "source": [
    "key_phrases_mr = multiPartiteRank(df.normalized, 5)"
   ]
  },
  {
   "cell_type": "code",
   "execution_count": 83,
   "metadata": {},
   "outputs": [
    {
     "name": "stdout",
     "output_type": "stream",
     "text": [
      "Precision: 15.69 | Recall: 17.07 | F1-Score: 16.35\n",
      "Precision: 16.98 | Recall: 16.97 | F1-Score: 16.98\n",
      "Precision: 17.06 | Recall: 16.97 | F1-Score: 17.02\n",
      "Precision: 17.32 | Recall: 16.92 | F1-Score: 17.12\n"
     ]
    }
   ],
   "source": [
    "prec, rec, f1 = text_metrics(key_phrases_mr, trues)\n",
    "print(f\"Precision: {'{:.2f}'.format(prec*100)}\\\n",
    " | Recall: {'{:.2f}'.format(rec*100)}\\\n",
    " | F1-Score: {'{:.2f}'.format(f1*100)}\")   \n",
    "\n",
    "key_phrases_mr1 = filter1(key_phrases_mr)\n",
    "prec, rec, f1 = text_metrics(key_phrases_mr1, trues)\n",
    "print(f\"Precision: {'{:.2f}'.format(prec*100)}\\\n",
    " | Recall: {'{:.2f}'.format(rec*100)}\\\n",
    " | F1-Score: {'{:.2f}'.format(f1*100)}\")   \n",
    "\n",
    "key_phrases_mr1 = filter2(key_phrases_mr1, descrete_ngrams, word2score)\n",
    "prec, rec, f1 = text_metrics(key_phrases_mr1, trues)\n",
    "print(f\"Precision: {'{:.2f}'.format(prec*100)}\\\n",
    " | Recall: {'{:.2f}'.format(rec*100)}\\\n",
    " | F1-Score: {'{:.2f}'.format(f1*100)}\")   \n",
    "\n",
    "key_phrases_mr1 = filter3(key_phrases_mr1, word2score)\n",
    "prec, rec, f1 = text_metrics(key_phrases_mr1, trues)\n",
    "print(f\"Precision: {'{:.2f}'.format(prec*100)}\\\n",
    " | Recall: {'{:.2f}'.format(rec*100)}\\\n",
    " | F1-Score: {'{:.2f}'.format(f1*100)}\")   "
   ]
  },
  {
   "cell_type": "markdown",
   "metadata": {},
   "source": [
    "### yake"
   ]
  },
  {
   "cell_type": "code",
   "execution_count": 84,
   "metadata": {},
   "outputs": [],
   "source": [
    "key_phrases_ya = yake(df.normalized)"
   ]
  },
  {
   "cell_type": "code",
   "execution_count": 88,
   "metadata": {},
   "outputs": [
    {
     "name": "stdout",
     "output_type": "stream",
     "text": [
      "Precision: 8.44 | Recall: 12.86 | F1-Score: 10.20\n",
      "Precision: 8.62 | Recall: 13.06 | F1-Score: 10.38\n",
      "Precision: 8.64 | Recall: 12.52 | F1-Score: 10.22\n"
     ]
    }
   ],
   "source": [
    "prec, rec, f1 = text_metrics(key_phrases_ya, trues)\n",
    "print(f\"Precision: {'{:.2f}'.format(prec*100)}\\\n",
    " | Recall: {'{:.2f}'.format(rec*100)}\\\n",
    " | F1-Score: {'{:.2f}'.format(f1*100)}\")   \n",
    "\n",
    "key_phrases_ya1 = filter2(key_phrases_ya, descrete_ngrams, word2score)\n",
    "prec, rec, f1 = text_metrics(key_phrases_ya1, trues)\n",
    "print(f\"Precision: {'{:.2f}'.format(prec*100)}\\\n",
    " | Recall: {'{:.2f}'.format(rec*100)}\\\n",
    " | F1-Score: {'{:.2f}'.format(f1*100)}\")   \n",
    "\n",
    "key_phrases_ya1 = filter3(key_phrases_ya1, word2score)\n",
    "prec, rec, f1 = text_metrics(key_phrases_ya1, trues)\n",
    "print(f\"Precision: {'{:.2f}'.format(prec*100)}\\\n",
    " | Recall: {'{:.2f}'.format(rec*100)}\\\n",
    " | F1-Score: {'{:.2f}'.format(f1*100)}\")   "
   ]
  }
 ],
 "metadata": {
  "kernelspec": {
   "display_name": "Python 3",
   "language": "python",
   "name": "python3"
  },
  "language_info": {
   "codemirror_mode": {
    "name": "ipython",
    "version": 3
   },
   "file_extension": ".py",
   "mimetype": "text/x-python",
   "name": "python",
   "nbconvert_exporter": "python",
   "pygments_lexer": "ipython3",
   "version": "3.10.0"
  },
  "orig_nbformat": 4
 },
 "nbformat": 4,
 "nbformat_minor": 2
}
